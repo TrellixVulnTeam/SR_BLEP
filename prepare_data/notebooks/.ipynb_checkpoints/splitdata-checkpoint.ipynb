{
 "cells": [
  {
   "cell_type": "markdown",
   "metadata": {},
   "source": [
    "## \"Pierwszy krok\"\n",
    "slajd 68 + weryfikacja poprawności ze slajdu 69 (Syst_rekom_2020-2021_21.11.2020.pdf)"
   ]
  },
  {
   "cell_type": "code",
   "execution_count": 1,
   "metadata": {},
   "outputs": [],
   "source": [
    "import pickle\n",
    "import pandas as pd\n",
    "import numpy as np"
   ]
  },
  {
   "cell_type": "code",
   "execution_count": 5,
   "metadata": {},
   "outputs": [
    {
     "name": "stdout",
     "output_type": "stream",
     "text": [
      "'2012 - Flach - Machine Learning The Art and Science of Algorithms That Make Sense of Data.pdf'\n",
      " data\n",
      " erlang-programming.pdf\n",
      " INŻ\n",
      " plan.png\n",
      " SA\n",
      " SR\n",
      " Syst_rekom_2020-2021_21.11.2020.pdf\n",
      " TSM\n",
      " zrzut.png\n"
     ]
    }
   ],
   "source": [
    "!ls ../"
   ]
  },
  {
   "cell_type": "code",
   "execution_count": 6,
   "metadata": {},
   "outputs": [],
   "source": [
    "df = pd.read_parquet('../data/criteoCategorized.parquet')\n"
   ]
  },
  {
   "cell_type": "code",
   "execution_count": 3,
   "metadata": {},
   "outputs": [],
   "source": [
    "labelEncoders = pickle.load(open(\"../data/lablencoder.pickle\",\"rb\"))"
   ]
  },
  {
   "cell_type": "code",
   "execution_count": 4,
   "metadata": {},
   "outputs": [
    {
     "data": {
      "text/plain": [
       "array(['017EBBBE0B84EC3065F8A4FAFA39A4B2'], dtype=object)"
      ]
     },
     "execution_count": 4,
     "metadata": {},
     "output_type": "execute_result"
    }
   ],
   "source": [
    "labelEncoders.get('partner_id').inverse_transform([0])"
   ]
  },
  {
   "cell_type": "code",
   "execution_count": 5,
   "metadata": {},
   "outputs": [],
   "source": [
    "grouped = df.groupby('partner_id')"
   ]
  },
  {
   "cell_type": "code",
   "execution_count": 6,
   "metadata": {},
   "outputs": [],
   "source": [
    "partners_selected_for_test_parameter_for_Mr_Riegel_20201103 =[\"C0F515F0A2D0A5D9F854008BA76EB537\", \"E3DDEB04F8AFF944B11943BB57D2F620\",\n",
    "\"E68029E9BCE099A60571AF757CBB6A08\"]\n",
    "partners_selected_for_test_parameter_encoded = labelEncoders.get('partner_id').transform(partners_selected_for_test_parameter_for_Mr_Riegel_20201103)"
   ]
  },
  {
   "cell_type": "code",
   "execution_count": 7,
   "metadata": {},
   "outputs": [
    {
     "data": {
      "text/plain": [
       "array([235, 277, 281])"
      ]
     },
     "execution_count": 7,
     "metadata": {},
     "output_type": "execute_result"
    }
   ],
   "source": [
    "partners_selected_for_test_parameter_encoded"
   ]
  },
  {
   "cell_type": "code",
   "execution_count": 8,
   "metadata": {},
   "outputs": [
    {
     "name": "stdout",
     "output_type": "stream",
     "text": [
      "test_parameter_for_Mr_Riegel_20201103 for partner_id C0F515F0A2D0A5D9F854008BA76EB537:  24079\n",
      "test_parameter_for_Mr_Riegel_20201103 for partner_id E3DDEB04F8AFF944B11943BB57D2F620:  3090150\n",
      "test_parameter_for_Mr_Riegel_20201103 for partner_id E68029E9BCE099A60571AF757CBB6A08:  3852\n"
     ]
    }
   ],
   "source": [
    "for partner_id, df_group_for_partner in grouped:\n",
    "    if partner_id in partners_selected_for_test_parameter_encoded:\n",
    "        print(\"test_parameter_for_Mr_Riegel_20201103 for partner_id \" + str(labelEncoders.get('partner_id').inverse_transform(partner_id)) + \": \", str(df_group_for_partner.shape[0]))"
   ]
  },
  {
   "cell_type": "code",
   "execution_count": 39,
   "metadata": {},
   "outputs": [],
   "source": [
    "for v in df['partner_id'].unique():\n",
    "    grouped.get_group(v).to_parquet('../data/partners/partner_' + str(v) + '.parquet')"
   ]
  },
  {
   "cell_type": "code",
   "execution_count": 14,
   "metadata": {},
   "outputs": [],
   "source": [
    "#zapomniałem posortować po dacie\n",
    "for v in range(0, 312):\n",
    "    df = pd.read_parquet('../data/partners/partner_' + str(v) + '.parquet')\n",
    "    df = df.sort_values(by='click_timestamp')\n",
    "    df.to_parquet('../data/partners/partner_' + str(v) + '.parquet')"
   ]
  }
 ],
 "metadata": {
  "kernelspec": {
   "display_name": "Python 3",
   "language": "python",
   "name": "python3"
  },
  "language_info": {
   "codemirror_mode": {
    "name": "ipython",
    "version": 3
   },
   "file_extension": ".py",
   "mimetype": "text/x-python",
   "name": "python",
   "nbconvert_exporter": "python",
   "pygments_lexer": "ipython3",
   "version": "3.8.5"
  }
 },
 "nbformat": 4,
 "nbformat_minor": 4
}

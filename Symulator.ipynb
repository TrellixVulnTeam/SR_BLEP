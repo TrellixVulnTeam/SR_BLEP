{
 "cells": [
  {
   "cell_type": "code",
   "execution_count": 1,
   "metadata": {},
   "outputs": [],
   "source": [
    "import pandas as pd\n",
    "import pickle\n",
    "from datetime import datetime\n",
    "import matplotlib.pyplot as plt"
   ]
  },
  {
   "cell_type": "code",
   "execution_count": 2,
   "metadata": {},
   "outputs": [],
   "source": [
    "df = pd.read_parquet('../data/partners/partner_32.parquet')"
   ]
  },
  {
   "cell_type": "code",
   "execution_count": 3,
   "metadata": {},
   "outputs": [],
   "source": [
    "num_of_events = len(df)"
   ]
  },
  {
   "cell_type": "code",
   "execution_count": 5,
   "metadata": {},
   "outputs": [
    {
     "data": {
      "text/plain": [
       "217369"
      ]
     },
     "execution_count": 5,
     "metadata": {},
     "output_type": "execute_result"
    }
   ],
   "source": []
  },
  {
   "cell_type": "code",
   "execution_count": 4,
   "metadata": {},
   "outputs": [],
   "source": [
    "labelEncoders = pickle.load(open(\"../data/lablencoder.pickle\",\"rb\"))"
   ]
  },
  {
   "cell_type": "code",
   "execution_count": 6,
   "metadata": {},
   "outputs": [
    {
     "data": {
      "text/plain": [
       "array([235])"
      ]
     },
     "execution_count": 6,
     "metadata": {},
     "output_type": "execute_result"
    }
   ],
   "source": [
    "labelEncoders.get('partner_id').transform(['C0F515F0A2D0A5D9F854008BA76EB537'])"
   ]
  },
  {
   "cell_type": "code",
   "execution_count": 121,
   "metadata": {},
   "outputs": [
    {
     "data": {
      "text/plain": [
       "array([     0,      0,      0, ..., 900030,      0,      0])"
      ]
     },
     "execution_count": 121,
     "metadata": {},
     "output_type": "execute_result"
    }
   ],
   "source": [
    "FAD['product_id'].values"
   ]
  },
  {
   "cell_type": "code",
   "execution_count": 73,
   "metadata": {},
   "outputs": [],
   "source": [
    "sales = len(df[df['Sale']==True])\n",
    "\n",
    "partner_summary_score = pd.DataFrame(data = [[labelEncoders.get('partner_id').inverse_transform(df['partner_id'].unique()[0]), num_of_events,sales, sales/num_of_events]], columns=['Partner id', 'Events', 'Sales', 'Efficiency'])"
   ]
  },
  {
   "cell_type": "code",
   "execution_count": 113,
   "metadata": {},
   "outputs": [
    {
     "data": {
      "text/html": [
       "<div>\n",
       "<style scoped>\n",
       "    .dataframe tbody tr th:only-of-type {\n",
       "        vertical-align: middle;\n",
       "    }\n",
       "\n",
       "    .dataframe tbody tr th {\n",
       "        vertical-align: top;\n",
       "    }\n",
       "\n",
       "    .dataframe thead th {\n",
       "        text-align: right;\n",
       "    }\n",
       "</style>\n",
       "<table border=\"1\" class=\"dataframe\">\n",
       "  <thead>\n",
       "    <tr style=\"text-align: right;\">\n",
       "      <th></th>\n",
       "      <th>Events</th>\n",
       "      <th>Sales</th>\n",
       "      <th>Efficiency</th>\n",
       "    </tr>\n",
       "    <tr>\n",
       "      <th>Partner id</th>\n",
       "      <th></th>\n",
       "      <th></th>\n",
       "      <th></th>\n",
       "    </tr>\n",
       "  </thead>\n",
       "  <tbody>\n",
       "    <tr>\n",
       "      <th>14DB5BA1A8C4EB3203B8AE5C32F5B797</th>\n",
       "      <td>217369</td>\n",
       "      <td>17752</td>\n",
       "      <td>0.081668</td>\n",
       "    </tr>\n",
       "  </tbody>\n",
       "</table>\n",
       "</div>"
      ],
      "text/plain": [
       "                                  Events  Sales  Efficiency\n",
       "Partner id                                                 \n",
       "14DB5BA1A8C4EB3203B8AE5C32F5B797  217369  17752    0.081668"
      ]
     },
     "execution_count": 113,
     "metadata": {},
     "output_type": "execute_result"
    }
   ],
   "source": [
    "partner_summary_score.set_index('Partner id')"
   ]
  },
  {
   "cell_type": "code",
   "execution_count": 114,
   "metadata": {},
   "outputs": [
    {
     "data": {
      "text/html": [
       "<div>\n",
       "<style scoped>\n",
       "    .dataframe tbody tr th:only-of-type {\n",
       "        vertical-align: middle;\n",
       "    }\n",
       "\n",
       "    .dataframe tbody tr th {\n",
       "        vertical-align: top;\n",
       "    }\n",
       "\n",
       "    .dataframe thead th {\n",
       "        text-align: right;\n",
       "    }\n",
       "</style>\n",
       "<table border=\"1\" class=\"dataframe\">\n",
       "  <thead>\n",
       "    <tr style=\"text-align: right;\">\n",
       "      <th></th>\n",
       "      <th>Partner id</th>\n",
       "      <th>Events</th>\n",
       "      <th>Sales</th>\n",
       "      <th>Efficiency</th>\n",
       "    </tr>\n",
       "  </thead>\n",
       "  <tbody>\n",
       "    <tr>\n",
       "      <th>0</th>\n",
       "      <td>14DB5BA1A8C4EB3203B8AE5C32F5B797</td>\n",
       "      <td>217369</td>\n",
       "      <td>17752</td>\n",
       "      <td>0.081668</td>\n",
       "    </tr>\n",
       "  </tbody>\n",
       "</table>\n",
       "</div>"
      ],
      "text/plain": [
       "                         Partner id  Events  Sales  Efficiency\n",
       "0  14DB5BA1A8C4EB3203B8AE5C32F5B797  217369  17752    0.081668"
      ]
     },
     "execution_count": 114,
     "metadata": {},
     "output_type": "execute_result"
    }
   ],
   "source": [
    "partner_summary_score"
   ]
  },
  {
   "cell_type": "code",
   "execution_count": 7,
   "metadata": {},
   "outputs": [],
   "source": [
    "partner_income  = df[df['Sale']==True]['SalesAmountInEuro'].sum()"
   ]
  },
  {
   "cell_type": "code",
   "execution_count": 8,
   "metadata": {},
   "outputs": [
    {
     "data": {
      "text/plain": [
       "3101206.98066"
      ]
     },
     "execution_count": 8,
     "metadata": {},
     "output_type": "execute_result"
    }
   ],
   "source": [
    "partner_income"
   ]
  },
  {
   "cell_type": "code",
   "execution_count": 9,
   "metadata": {},
   "outputs": [],
   "source": [
    "avg_click_cost = (partner_income/num_of_events) * 0.125"
   ]
  },
  {
   "cell_type": "code",
   "execution_count": 70,
   "metadata": {},
   "outputs": [],
   "source": [
    "partner_profit = partner_income - avg_click_cost * num_of_events"
   ]
  },
  {
   "cell_type": "code",
   "execution_count": 71,
   "metadata": {},
   "outputs": [
    {
     "data": {
      "text/plain": [
       "2713556.1080775"
      ]
     },
     "execution_count": 71,
     "metadata": {},
     "output_type": "execute_result"
    }
   ],
   "source": [
    "partner_profit"
   ]
  },
  {
   "cell_type": "code",
   "execution_count": null,
   "metadata": {},
   "outputs": [],
   "source": [
    "df = pd.read_parquet(\"../data/partners_performance/partner_235.parquet\")"
   ]
  },
  {
   "cell_type": "code",
   "execution_count": 11,
   "metadata": {},
   "outputs": [
    {
     "data": {
      "text/html": [
       "<div>\n",
       "<style scoped>\n",
       "    .dataframe tbody tr th:only-of-type {\n",
       "        vertical-align: middle;\n",
       "    }\n",
       "\n",
       "    .dataframe tbody tr th {\n",
       "        vertical-align: top;\n",
       "    }\n",
       "\n",
       "    .dataframe thead th {\n",
       "        text-align: right;\n",
       "    }\n",
       "</style>\n",
       "<table border=\"1\" class=\"dataframe\">\n",
       "  <thead>\n",
       "    <tr style=\"text-align: right;\">\n",
       "      <th></th>\n",
       "      <th>Day</th>\n",
       "      <th>Sustained profit</th>\n",
       "      <th>Profit gain</th>\n",
       "      <th>Bez optymalizatora</th>\n",
       "    </tr>\n",
       "  </thead>\n",
       "  <tbody>\n",
       "    <tr>\n",
       "      <th>0</th>\n",
       "      <td>2020-09-30</td>\n",
       "      <td>42.129643</td>\n",
       "      <td>-100.801819</td>\n",
       "      <td>142.931463</td>\n",
       "    </tr>\n",
       "    <tr>\n",
       "      <th>1</th>\n",
       "      <td>2020-10-01</td>\n",
       "      <td>332.276891</td>\n",
       "      <td>-285.338542</td>\n",
       "      <td>617.615433</td>\n",
       "    </tr>\n",
       "    <tr>\n",
       "      <th>2</th>\n",
       "      <td>2020-10-02</td>\n",
       "      <td>76.495214</td>\n",
       "      <td>-94.102022</td>\n",
       "      <td>170.597236</td>\n",
       "    </tr>\n",
       "    <tr>\n",
       "      <th>3</th>\n",
       "      <td>2020-10-03</td>\n",
       "      <td>234.584647</td>\n",
       "      <td>-174.456204</td>\n",
       "      <td>409.040850</td>\n",
       "    </tr>\n",
       "    <tr>\n",
       "      <th>4</th>\n",
       "      <td>2020-10-05</td>\n",
       "      <td>278.373722</td>\n",
       "      <td>-253.422307</td>\n",
       "      <td>531.796029</td>\n",
       "    </tr>\n",
       "    <tr>\n",
       "      <th>5</th>\n",
       "      <td>2020-10-06</td>\n",
       "      <td>437.413428</td>\n",
       "      <td>-235.211125</td>\n",
       "      <td>672.624552</td>\n",
       "    </tr>\n",
       "    <tr>\n",
       "      <th>6</th>\n",
       "      <td>2020-10-07</td>\n",
       "      <td>503.030228</td>\n",
       "      <td>-218.007228</td>\n",
       "      <td>721.037456</td>\n",
       "    </tr>\n",
       "    <tr>\n",
       "      <th>7</th>\n",
       "      <td>2020-10-08</td>\n",
       "      <td>303.401697</td>\n",
       "      <td>-370.330611</td>\n",
       "      <td>673.732308</td>\n",
       "    </tr>\n",
       "    <tr>\n",
       "      <th>8</th>\n",
       "      <td>2020-10-09</td>\n",
       "      <td>247.145438</td>\n",
       "      <td>-300.156486</td>\n",
       "      <td>547.301923</td>\n",
       "    </tr>\n",
       "    <tr>\n",
       "      <th>9</th>\n",
       "      <td>2020-10-10</td>\n",
       "      <td>303.356888</td>\n",
       "      <td>-143.910491</td>\n",
       "      <td>447.267379</td>\n",
       "    </tr>\n",
       "    <tr>\n",
       "      <th>10</th>\n",
       "      <td>2020-10-11</td>\n",
       "      <td>310.769546</td>\n",
       "      <td>-326.180974</td>\n",
       "      <td>636.950520</td>\n",
       "    </tr>\n",
       "    <tr>\n",
       "      <th>11</th>\n",
       "      <td>2020-10-12</td>\n",
       "      <td>348.407456</td>\n",
       "      <td>-213.686598</td>\n",
       "      <td>562.094054</td>\n",
       "    </tr>\n",
       "    <tr>\n",
       "      <th>12</th>\n",
       "      <td>2020-10-13</td>\n",
       "      <td>353.519767</td>\n",
       "      <td>-305.029733</td>\n",
       "      <td>658.549500</td>\n",
       "    </tr>\n",
       "    <tr>\n",
       "      <th>13</th>\n",
       "      <td>2020-10-14</td>\n",
       "      <td>284.831742</td>\n",
       "      <td>-82.635004</td>\n",
       "      <td>367.466746</td>\n",
       "    </tr>\n",
       "    <tr>\n",
       "      <th>14</th>\n",
       "      <td>2020-10-15</td>\n",
       "      <td>281.577268</td>\n",
       "      <td>-238.408163</td>\n",
       "      <td>519.985431</td>\n",
       "    </tr>\n",
       "    <tr>\n",
       "      <th>15</th>\n",
       "      <td>2020-10-16</td>\n",
       "      <td>325.616201</td>\n",
       "      <td>-186.566927</td>\n",
       "      <td>512.183128</td>\n",
       "    </tr>\n",
       "    <tr>\n",
       "      <th>16</th>\n",
       "      <td>2020-10-17</td>\n",
       "      <td>425.679584</td>\n",
       "      <td>-311.825346</td>\n",
       "      <td>737.504930</td>\n",
       "    </tr>\n",
       "    <tr>\n",
       "      <th>17</th>\n",
       "      <td>2020-10-18</td>\n",
       "      <td>502.828823</td>\n",
       "      <td>-233.679211</td>\n",
       "      <td>736.508033</td>\n",
       "    </tr>\n",
       "    <tr>\n",
       "      <th>18</th>\n",
       "      <td>2020-10-19</td>\n",
       "      <td>388.453855</td>\n",
       "      <td>-256.390373</td>\n",
       "      <td>644.844228</td>\n",
       "    </tr>\n",
       "    <tr>\n",
       "      <th>19</th>\n",
       "      <td>2020-10-20</td>\n",
       "      <td>580.967490</td>\n",
       "      <td>-344.055540</td>\n",
       "      <td>925.023030</td>\n",
       "    </tr>\n",
       "    <tr>\n",
       "      <th>20</th>\n",
       "      <td>2020-10-21</td>\n",
       "      <td>418.703922</td>\n",
       "      <td>-201.312980</td>\n",
       "      <td>620.016903</td>\n",
       "    </tr>\n",
       "    <tr>\n",
       "      <th>21</th>\n",
       "      <td>2020-10-22</td>\n",
       "      <td>204.216547</td>\n",
       "      <td>-234.245657</td>\n",
       "      <td>438.462203</td>\n",
       "    </tr>\n",
       "    <tr>\n",
       "      <th>22</th>\n",
       "      <td>2020-10-23</td>\n",
       "      <td>315.641141</td>\n",
       "      <td>-135.444683</td>\n",
       "      <td>451.085824</td>\n",
       "    </tr>\n",
       "    <tr>\n",
       "      <th>23</th>\n",
       "      <td>2020-10-24</td>\n",
       "      <td>707.252913</td>\n",
       "      <td>-165.729434</td>\n",
       "      <td>872.982347</td>\n",
       "    </tr>\n",
       "    <tr>\n",
       "      <th>24</th>\n",
       "      <td>2020-10-25</td>\n",
       "      <td>450.476591</td>\n",
       "      <td>-245.572880</td>\n",
       "      <td>696.049471</td>\n",
       "    </tr>\n",
       "    <tr>\n",
       "      <th>25</th>\n",
       "      <td>2020-10-26</td>\n",
       "      <td>441.709548</td>\n",
       "      <td>-346.876427</td>\n",
       "      <td>788.585975</td>\n",
       "    </tr>\n",
       "    <tr>\n",
       "      <th>26</th>\n",
       "      <td>2020-10-27</td>\n",
       "      <td>312.764676</td>\n",
       "      <td>-236.639092</td>\n",
       "      <td>549.403768</td>\n",
       "    </tr>\n",
       "    <tr>\n",
       "      <th>27</th>\n",
       "      <td>2020-10-28</td>\n",
       "      <td>445.703165</td>\n",
       "      <td>-118.588929</td>\n",
       "      <td>564.292094</td>\n",
       "    </tr>\n",
       "    <tr>\n",
       "      <th>28</th>\n",
       "      <td>2020-10-29</td>\n",
       "      <td>180.756709</td>\n",
       "      <td>-200.223001</td>\n",
       "      <td>380.979710</td>\n",
       "    </tr>\n",
       "    <tr>\n",
       "      <th>29</th>\n",
       "      <td>2020-10-30</td>\n",
       "      <td>543.550781</td>\n",
       "      <td>-245.807158</td>\n",
       "      <td>789.357939</td>\n",
       "    </tr>\n",
       "    <tr>\n",
       "      <th>30</th>\n",
       "      <td>2020-10-31</td>\n",
       "      <td>110.921836</td>\n",
       "      <td>-133.607215</td>\n",
       "      <td>244.529051</td>\n",
       "    </tr>\n",
       "    <tr>\n",
       "      <th>31</th>\n",
       "      <td>2020-11-01</td>\n",
       "      <td>160.215861</td>\n",
       "      <td>-104.017521</td>\n",
       "      <td>264.233381</td>\n",
       "    </tr>\n",
       "    <tr>\n",
       "      <th>32</th>\n",
       "      <td>2020-11-02</td>\n",
       "      <td>96.797217</td>\n",
       "      <td>-42.165104</td>\n",
       "      <td>138.962321</td>\n",
       "    </tr>\n",
       "  </tbody>\n",
       "</table>\n",
       "</div>"
      ],
      "text/plain": [
       "           Day  Sustained profit  Profit gain  Bez optymalizatora\n",
       "0   2020-09-30         42.129643  -100.801819          142.931463\n",
       "1   2020-10-01        332.276891  -285.338542          617.615433\n",
       "2   2020-10-02         76.495214   -94.102022          170.597236\n",
       "3   2020-10-03        234.584647  -174.456204          409.040850\n",
       "4   2020-10-05        278.373722  -253.422307          531.796029\n",
       "5   2020-10-06        437.413428  -235.211125          672.624552\n",
       "6   2020-10-07        503.030228  -218.007228          721.037456\n",
       "7   2020-10-08        303.401697  -370.330611          673.732308\n",
       "8   2020-10-09        247.145438  -300.156486          547.301923\n",
       "9   2020-10-10        303.356888  -143.910491          447.267379\n",
       "10  2020-10-11        310.769546  -326.180974          636.950520\n",
       "11  2020-10-12        348.407456  -213.686598          562.094054\n",
       "12  2020-10-13        353.519767  -305.029733          658.549500\n",
       "13  2020-10-14        284.831742   -82.635004          367.466746\n",
       "14  2020-10-15        281.577268  -238.408163          519.985431\n",
       "15  2020-10-16        325.616201  -186.566927          512.183128\n",
       "16  2020-10-17        425.679584  -311.825346          737.504930\n",
       "17  2020-10-18        502.828823  -233.679211          736.508033\n",
       "18  2020-10-19        388.453855  -256.390373          644.844228\n",
       "19  2020-10-20        580.967490  -344.055540          925.023030\n",
       "20  2020-10-21        418.703922  -201.312980          620.016903\n",
       "21  2020-10-22        204.216547  -234.245657          438.462203\n",
       "22  2020-10-23        315.641141  -135.444683          451.085824\n",
       "23  2020-10-24        707.252913  -165.729434          872.982347\n",
       "24  2020-10-25        450.476591  -245.572880          696.049471\n",
       "25  2020-10-26        441.709548  -346.876427          788.585975\n",
       "26  2020-10-27        312.764676  -236.639092          549.403768\n",
       "27  2020-10-28        445.703165  -118.588929          564.292094\n",
       "28  2020-10-29        180.756709  -200.223001          380.979710\n",
       "29  2020-10-30        543.550781  -245.807158          789.357939\n",
       "30  2020-10-31        110.921836  -133.607215          244.529051\n",
       "31  2020-11-01        160.215861  -104.017521          264.233381\n",
       "32  2020-11-02         96.797217   -42.165104          138.962321"
      ]
     },
     "execution_count": 11,
     "metadata": {},
     "output_type": "execute_result"
    }
   ],
   "source": [
    "df"
   ]
  },
  {
   "cell_type": "code",
   "execution_count": 12,
   "metadata": {},
   "outputs": [
    {
     "data": {
      "image/png": "[encoded data removed]",
      "text/plain": [
       "<Figure size 432x288 with 1 Axes>"
      ]
     },
     "metadata": {
      "needs_background": "light"
     },
     "output_type": "display_data"
    }
   ],
   "source": [
    "plt.plot(df.index.values, df['Profit gain'], label='Profit gain')\n",
    "plt.plot(df.index.values, df['Sustained profit'], label='Sustained profit')\n",
    "plt.xlabel('Days of simulation')\n",
    "plt.ylabel('EUR')\n",
    "plt.legend()\n",
    "plt.show()"
   ]
  }
 ],
 "metadata": {
  "kernelspec": {
   "display_name": "Python 3",
   "language": "python",
   "name": "python3"
  },
  "language_info": {
   "codemirror_mode": {
    "name": "ipython",
    "version": 3
   },
   "file_extension": ".py",
   "mimetype": "text/x-python",
   "name": "python",
   "nbconvert_exporter": "python",
   "pygments_lexer": "ipython3",
   "version": "3.8.5"
  }
 },
 "nbformat": 4,
 "nbformat_minor": 4
}

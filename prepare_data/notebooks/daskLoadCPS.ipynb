{
 "cells": [
  {
   "cell_type": "markdown",
   "metadata": {},
   "source": [
    "## Przygotowanie danych"
   ]
  },
  {
   "cell_type": "code",
   "execution_count": 2,
   "metadata": {},
   "outputs": [],
   "source": [
    "import dask.dataframe as dd\n",
    "import numpy as np\n",
    "import pandas as pd\n",
    "import pickle\n",
    "from dask_ml import preprocessing\n",
    "import datetime"
   ]
  },
  {
   "cell_type": "code",
   "execution_count": 3,
   "metadata": {},
   "outputs": [],
   "source": [
    "from dask.distributed import Client, LocalCluster"
   ]
  },
  {
   "cell_type": "code",
   "execution_count": 4,
   "metadata": {},
   "outputs": [],
   "source": [
    "cluster = LocalCluster()\n",
    "client = Client(cluster)"
   ]
  },
  {
   "cell_type": "code",
   "execution_count": 4,
   "metadata": {},
   "outputs": [
    {
     "data": {
      "text/html": [
       "<table style=\"border: 2px solid white;\">\n",
       "<tr>\n",
       "<td style=\"vertical-align: top; border: 0px solid white\">\n",
       "<h3 style=\"text-align: left;\">Client</h3>\n",
       "<ul style=\"text-align: left; list-style: none; margin: 0; padding: 0;\">\n",
       "  <li><b>Scheduler: </b>tcp://127.0.0.1:40489</li>\n",
       "  <li><b>Dashboard: </b><a href='http://127.0.0.1:8787/status' target='_blank'>http://127.0.0.1:8787/status</a></li>\n",
       "</ul>\n",
       "</td>\n",
       "<td style=\"vertical-align: top; border: 0px solid white\">\n",
       "<h3 style=\"text-align: left;\">Cluster</h3>\n",
       "<ul style=\"text-align: left; list-style:none; margin: 0; padding: 0;\">\n",
       "  <li><b>Workers: </b>4</li>\n",
       "  <li><b>Cores: </b>8</li>\n",
       "  <li><b>Memory: </b>16.19 GB</li>\n",
       "</ul>\n",
       "</td>\n",
       "</tr>\n",
       "</table>"
      ],
      "text/plain": [
       "<Client: 'tcp://127.0.0.1:40489' processes=4 threads=8, memory=16.19 GB>"
      ]
     },
     "execution_count": 4,
     "metadata": {},
     "output_type": "execute_result"
    }
   ],
   "source": [
    "client"
   ]
  },
  {
   "cell_type": "code",
   "execution_count": 6,
   "metadata": {},
   "outputs": [],
   "source": [
    "df_headers = ['Sale','SalesAmountInEuro','time_delay_for_conversion','click_timestamp',\n",
    "              'nb_clicks_1week','product_price','product_age_group','device_type',\n",
    "              'audience_id','product_gender','product_brand',\n",
    "              'prod_category1','prod_category2','prod_category3','prod_category4',\n",
    "              'prod_category5','prod_category6','prod_category7','product_country',\n",
    "              'product_id','product_title','partner_id','user_id']\n",
    "\n",
    "# dtypes={'Sale':'bool','prod_category1': 'object','prod_category2': 'object',\n",
    "#         'prod_category3': 'object','prod_category4': 'object',\n",
    "#         'prod_category5': 'object','prod_category6': 'object',\n",
    "#         'prod_category7': 'object', 'product_category': 'str'}\n",
    "\n",
    "dtypes={'prod_category1': 'category','prod_category2': 'category',\n",
    "        'prod_category3': 'category','prod_category4': 'category',\n",
    "        'prod_category5': 'category','prod_category6': 'category',\n",
    "        'prod_category7': 'category', 'product_category': 'str'}\n",
    "\n",
    "encoder_labels = ['product_age_group','device_type','audience_id',\n",
    "                  'product_gender', 'product_brand','prod_category1','prod_category2',\n",
    "                  'prod_category3','prod_category4','prod_category5',\n",
    "                  'prod_category6','prod_category7','product_country',\n",
    "                  'product_id','product_title','partner_id','user_id']\n",
    "\n",
    "def dateparse (time_in_secs):\n",
    "    return datetime.datetime.fromtimestamp(float(time_in_secs))\n",
    "\n",
    "df = pd.read_csv(\"../../../data/CriteoSearchData.csv\", header=None,\n",
    "                 names=df_headers, delimiter='\\t', dtype=dtypes, parse_dates=['click_timestamp'], date_parser= dateparse)"
   ]
  },
  {
   "cell_type": "code",
   "execution_count": 7,
   "metadata": {},
   "outputs": [
    {
     "data": {
      "text/html": [
       "<div>\n",
       "<style scoped>\n",
       "    .dataframe tbody tr th:only-of-type {\n",
       "        vertical-align: middle;\n",
       "    }\n",
       "\n",
       "    .dataframe tbody tr th {\n",
       "        vertical-align: top;\n",
       "    }\n",
       "\n",
       "    .dataframe thead th {\n",
       "        text-align: right;\n",
       "    }\n",
       "</style>\n",
       "<table border=\"1\" class=\"dataframe\">\n",
       "  <thead>\n",
       "    <tr style=\"text-align: right;\">\n",
       "      <th></th>\n",
       "      <th>Sale</th>\n",
       "      <th>SalesAmountInEuro</th>\n",
       "      <th>time_delay_for_conversion</th>\n",
       "      <th>click_timestamp</th>\n",
       "      <th>nb_clicks_1week</th>\n",
       "      <th>product_price</th>\n",
       "      <th>product_age_group</th>\n",
       "      <th>device_type</th>\n",
       "      <th>audience_id</th>\n",
       "      <th>product_gender</th>\n",
       "      <th>...</th>\n",
       "      <th>prod_category3</th>\n",
       "      <th>prod_category4</th>\n",
       "      <th>prod_category5</th>\n",
       "      <th>prod_category6</th>\n",
       "      <th>prod_category7</th>\n",
       "      <th>product_country</th>\n",
       "      <th>product_id</th>\n",
       "      <th>product_title</th>\n",
       "      <th>partner_id</th>\n",
       "      <th>user_id</th>\n",
       "    </tr>\n",
       "  </thead>\n",
       "  <tbody>\n",
       "    <tr>\n",
       "      <th>0</th>\n",
       "      <td>0</td>\n",
       "      <td>-1.0</td>\n",
       "      <td>-1</td>\n",
       "      <td>2020-08-31 18:37:00</td>\n",
       "      <td>-1</td>\n",
       "      <td>0.0</td>\n",
       "      <td>-1</td>\n",
       "      <td>7E56C27BFF0305E788DA55A029EC4988</td>\n",
       "      <td>-1</td>\n",
       "      <td>-1</td>\n",
       "      <td>...</td>\n",
       "      <td>-1</td>\n",
       "      <td>-1</td>\n",
       "      <td>-1</td>\n",
       "      <td>-1</td>\n",
       "      <td>-1</td>\n",
       "      <td>57A1D462A03BD076E029CF9310C11FC5</td>\n",
       "      <td>A66DB02AC1726A8D79C518B7F7AB79F0</td>\n",
       "      <td>-1</td>\n",
       "      <td>E3DDEB04F8AFF944B11943BB57D2F620</td>\n",
       "      <td>493CFB4A87C50804C94C0CF76ABD19CD</td>\n",
       "    </tr>\n",
       "    <tr>\n",
       "      <th>1</th>\n",
       "      <td>0</td>\n",
       "      <td>-1.0</td>\n",
       "      <td>-1</td>\n",
       "      <td>2020-09-01 03:54:44</td>\n",
       "      <td>0</td>\n",
       "      <td>0.0</td>\n",
       "      <td>4C90FD52FC53D2C1C205844CB69575AB</td>\n",
       "      <td>D7D1FB49049702BF6338894757E0D959</td>\n",
       "      <td>-1</td>\n",
       "      <td>1B491180398E2F0390E6A588B3BCE291</td>\n",
       "      <td>...</td>\n",
       "      <td>-1</td>\n",
       "      <td>-1</td>\n",
       "      <td>-1</td>\n",
       "      <td>-1</td>\n",
       "      <td>-1</td>\n",
       "      <td>57A1D462A03BD076E029CF9310C11FC5</td>\n",
       "      <td>4C6C62203B4CE5AA6DFCF17F2604DC37</td>\n",
       "      <td>3CE3D1623D32FB2A901822910AF72A0B C83584C673752...</td>\n",
       "      <td>BD01BAFAE73CF38C403978BBB458300C</td>\n",
       "      <td>D0EBCD4402172AE3AA6FD21FB77BDE84</td>\n",
       "    </tr>\n",
       "    <tr>\n",
       "      <th>2</th>\n",
       "      <td>0</td>\n",
       "      <td>-1.0</td>\n",
       "      <td>-1</td>\n",
       "      <td>2020-08-31 18:49:28</td>\n",
       "      <td>-1</td>\n",
       "      <td>0.0</td>\n",
       "      <td>-1</td>\n",
       "      <td>7E56C27BFF0305E788DA55A029EC4988</td>\n",
       "      <td>-1</td>\n",
       "      <td>-1</td>\n",
       "      <td>...</td>\n",
       "      <td>-1</td>\n",
       "      <td>-1</td>\n",
       "      <td>-1</td>\n",
       "      <td>-1</td>\n",
       "      <td>-1</td>\n",
       "      <td>-1</td>\n",
       "      <td>-1</td>\n",
       "      <td>-1</td>\n",
       "      <td>C4D189327BD87FEB3BF896DA716C6995</td>\n",
       "      <td>E8A8BEA257B19574C36108D0F0CDADE5</td>\n",
       "    </tr>\n",
       "    <tr>\n",
       "      <th>3</th>\n",
       "      <td>0</td>\n",
       "      <td>-1.0</td>\n",
       "      <td>-1</td>\n",
       "      <td>2020-08-31 18:26:14</td>\n",
       "      <td>-1</td>\n",
       "      <td>0.0</td>\n",
       "      <td>-1</td>\n",
       "      <td>D7D1FB49049702BF6338894757E0D959</td>\n",
       "      <td>B0E6BD3ACC0707BAB31CA2C2B08E652F</td>\n",
       "      <td>-1</td>\n",
       "      <td>...</td>\n",
       "      <td>-1</td>\n",
       "      <td>-1</td>\n",
       "      <td>-1</td>\n",
       "      <td>-1</td>\n",
       "      <td>-1</td>\n",
       "      <td>-1</td>\n",
       "      <td>-1</td>\n",
       "      <td>-1</td>\n",
       "      <td>440255DF62CFD36FBC0206828FC488E0</td>\n",
       "      <td>9703077BD18F430BD232A6F74931928E</td>\n",
       "    </tr>\n",
       "    <tr>\n",
       "      <th>4</th>\n",
       "      <td>0</td>\n",
       "      <td>-1.0</td>\n",
       "      <td>-1</td>\n",
       "      <td>2020-08-31 22:20:45</td>\n",
       "      <td>-1</td>\n",
       "      <td>0.0</td>\n",
       "      <td>-1</td>\n",
       "      <td>7E56C27BFF0305E788DA55A029EC4988</td>\n",
       "      <td>-1</td>\n",
       "      <td>-1</td>\n",
       "      <td>...</td>\n",
       "      <td>-1</td>\n",
       "      <td>-1</td>\n",
       "      <td>-1</td>\n",
       "      <td>-1</td>\n",
       "      <td>-1</td>\n",
       "      <td>57A1D462A03BD076E029CF9310C11FC5</td>\n",
       "      <td>5F4AFF2693601C2EFFE9AF2C1ED4222E</td>\n",
       "      <td>-1</td>\n",
       "      <td>E3DDEB04F8AFF944B11943BB57D2F620</td>\n",
       "      <td>703B8CFC8D65A67BDF96595CCF992D27</td>\n",
       "    </tr>\n",
       "    <tr>\n",
       "      <th>...</th>\n",
       "      <td>...</td>\n",
       "      <td>...</td>\n",
       "      <td>...</td>\n",
       "      <td>...</td>\n",
       "      <td>...</td>\n",
       "      <td>...</td>\n",
       "      <td>...</td>\n",
       "      <td>...</td>\n",
       "      <td>...</td>\n",
       "      <td>...</td>\n",
       "      <td>...</td>\n",
       "      <td>...</td>\n",
       "      <td>...</td>\n",
       "      <td>...</td>\n",
       "      <td>...</td>\n",
       "      <td>...</td>\n",
       "      <td>...</td>\n",
       "      <td>...</td>\n",
       "      <td>...</td>\n",
       "      <td>...</td>\n",
       "      <td>...</td>\n",
       "    </tr>\n",
       "    <tr>\n",
       "      <th>15995629</th>\n",
       "      <td>0</td>\n",
       "      <td>-1.0</td>\n",
       "      <td>-1</td>\n",
       "      <td>2020-08-09 20:35:17</td>\n",
       "      <td>14</td>\n",
       "      <td>0.0</td>\n",
       "      <td>88460293E9517D21E39AA889BD5AADC8</td>\n",
       "      <td>7E56C27BFF0305E788DA55A029EC4988</td>\n",
       "      <td>-1</td>\n",
       "      <td>1B491180398E2F0390E6A588B3BCE291</td>\n",
       "      <td>...</td>\n",
       "      <td>-1</td>\n",
       "      <td>-1</td>\n",
       "      <td>-1</td>\n",
       "      <td>-1</td>\n",
       "      <td>-1</td>\n",
       "      <td>F0C08A161AA0404193A7EF78F5C3E06C</td>\n",
       "      <td>81075F8D35AD6A054547EEDBF9C3C845</td>\n",
       "      <td>202165BDC8B614AC3B7F292214B455AD 8859F5D2DCBB5...</td>\n",
       "      <td>CC14152DD0806823ED88BA55D9A5240B</td>\n",
       "      <td>91AAEAC11C0A82339C4413F51EF40873</td>\n",
       "    </tr>\n",
       "    <tr>\n",
       "      <th>15995630</th>\n",
       "      <td>0</td>\n",
       "      <td>-1.0</td>\n",
       "      <td>-1</td>\n",
       "      <td>2020-08-10 02:21:25</td>\n",
       "      <td>0</td>\n",
       "      <td>0.0</td>\n",
       "      <td>4C90FD52FC53D2C1C205844CB69575AB</td>\n",
       "      <td>7E56C27BFF0305E788DA55A029EC4988</td>\n",
       "      <td>-1</td>\n",
       "      <td>1B491180398E2F0390E6A588B3BCE291</td>\n",
       "      <td>...</td>\n",
       "      <td>7A6CEBB58995350B3B174F41DA99FBE7</td>\n",
       "      <td>61B7D8AAF123E545037AA95782986E1D</td>\n",
       "      <td>-1</td>\n",
       "      <td>-1</td>\n",
       "      <td>-1</td>\n",
       "      <td>F0C08A161AA0404193A7EF78F5C3E06C</td>\n",
       "      <td>DE8B7BA7EF523912230CB0F52C38061E</td>\n",
       "      <td>1DBBC0561EC13267859FFEEC908945FA 66418DFAB96BE...</td>\n",
       "      <td>4691EA5C1795A32C20FCEF274CC28BE5</td>\n",
       "      <td>E9B8E33F395DB60C9B2A1AA01C8044AE</td>\n",
       "    </tr>\n",
       "    <tr>\n",
       "      <th>15995631</th>\n",
       "      <td>0</td>\n",
       "      <td>-1.0</td>\n",
       "      <td>-1</td>\n",
       "      <td>2020-08-09 10:07:46</td>\n",
       "      <td>5</td>\n",
       "      <td>0.0</td>\n",
       "      <td>4C90FD52FC53D2C1C205844CB69575AB</td>\n",
       "      <td>7E56C27BFF0305E788DA55A029EC4988</td>\n",
       "      <td>-1</td>\n",
       "      <td>C45A9AC6D102ACAEEDF0D6F78636D84A</td>\n",
       "      <td>...</td>\n",
       "      <td>-1</td>\n",
       "      <td>-1</td>\n",
       "      <td>-1</td>\n",
       "      <td>-1</td>\n",
       "      <td>-1</td>\n",
       "      <td>F0C08A161AA0404193A7EF78F5C3E06C</td>\n",
       "      <td>7169291F07C0D3D301AF763B67FF6A4F</td>\n",
       "      <td>A6846C722EEB95A9DF0F2FC5B2B04CE2 8EED363963B19...</td>\n",
       "      <td>CC14152DD0806823ED88BA55D9A5240B</td>\n",
       "      <td>1DB53816522BE08D341C0BB19189527E</td>\n",
       "    </tr>\n",
       "    <tr>\n",
       "      <th>15995632</th>\n",
       "      <td>0</td>\n",
       "      <td>-1.0</td>\n",
       "      <td>-1</td>\n",
       "      <td>2020-08-09 10:08:01</td>\n",
       "      <td>5</td>\n",
       "      <td>0.0</td>\n",
       "      <td>4C90FD52FC53D2C1C205844CB69575AB</td>\n",
       "      <td>7E56C27BFF0305E788DA55A029EC4988</td>\n",
       "      <td>-1</td>\n",
       "      <td>C45A9AC6D102ACAEEDF0D6F78636D84A</td>\n",
       "      <td>...</td>\n",
       "      <td>-1</td>\n",
       "      <td>-1</td>\n",
       "      <td>-1</td>\n",
       "      <td>-1</td>\n",
       "      <td>-1</td>\n",
       "      <td>F0C08A161AA0404193A7EF78F5C3E06C</td>\n",
       "      <td>7169291F07C0D3D301AF763B67FF6A4F</td>\n",
       "      <td>A6846C722EEB95A9DF0F2FC5B2B04CE2 8EED363963B19...</td>\n",
       "      <td>CC14152DD0806823ED88BA55D9A5240B</td>\n",
       "      <td>1DB53816522BE08D341C0BB19189527E</td>\n",
       "    </tr>\n",
       "    <tr>\n",
       "      <th>15995633</th>\n",
       "      <td>0</td>\n",
       "      <td>-1.0</td>\n",
       "      <td>-1</td>\n",
       "      <td>2020-08-09 17:41:17</td>\n",
       "      <td>23</td>\n",
       "      <td>0.0</td>\n",
       "      <td>4C90FD52FC53D2C1C205844CB69575AB</td>\n",
       "      <td>7E56C27BFF0305E788DA55A029EC4988</td>\n",
       "      <td>-1</td>\n",
       "      <td>1B491180398E2F0390E6A588B3BCE291</td>\n",
       "      <td>...</td>\n",
       "      <td>-1</td>\n",
       "      <td>-1</td>\n",
       "      <td>-1</td>\n",
       "      <td>-1</td>\n",
       "      <td>-1</td>\n",
       "      <td>F0C08A161AA0404193A7EF78F5C3E06C</td>\n",
       "      <td>EB400DC557C80F4D71E2AF2AE8B7908C</td>\n",
       "      <td>EE7A103620ADFBBF8833BA5E0F5F73F3 226BC10048E64...</td>\n",
       "      <td>CC14152DD0806823ED88BA55D9A5240B</td>\n",
       "      <td>26C91BFE7D40D586D624E964D24910AA</td>\n",
       "    </tr>\n",
       "  </tbody>\n",
       "</table>\n",
       "<p>15995634 rows × 23 columns</p>\n",
       "</div>"
      ],
      "text/plain": [
       "          Sale  SalesAmountInEuro  time_delay_for_conversion  \\\n",
       "0            0               -1.0                         -1   \n",
       "1            0               -1.0                         -1   \n",
       "2            0               -1.0                         -1   \n",
       "3            0               -1.0                         -1   \n",
       "4            0               -1.0                         -1   \n",
       "...        ...                ...                        ...   \n",
       "15995629     0               -1.0                         -1   \n",
       "15995630     0               -1.0                         -1   \n",
       "15995631     0               -1.0                         -1   \n",
       "15995632     0               -1.0                         -1   \n",
       "15995633     0               -1.0                         -1   \n",
       "\n",
       "             click_timestamp  nb_clicks_1week  product_price  \\\n",
       "0        2020-08-31 18:37:00               -1            0.0   \n",
       "1        2020-09-01 03:54:44                0            0.0   \n",
       "2        2020-08-31 18:49:28               -1            0.0   \n",
       "3        2020-08-31 18:26:14               -1            0.0   \n",
       "4        2020-08-31 22:20:45               -1            0.0   \n",
       "...                      ...              ...            ...   \n",
       "15995629 2020-08-09 20:35:17               14            0.0   \n",
       "15995630 2020-08-10 02:21:25                0            0.0   \n",
       "15995631 2020-08-09 10:07:46                5            0.0   \n",
       "15995632 2020-08-09 10:08:01                5            0.0   \n",
       "15995633 2020-08-09 17:41:17               23            0.0   \n",
       "\n",
       "                         product_age_group                       device_type  \\\n",
       "0                                       -1  7E56C27BFF0305E788DA55A029EC4988   \n",
       "1         4C90FD52FC53D2C1C205844CB69575AB  D7D1FB49049702BF6338894757E0D959   \n",
       "2                                       -1  7E56C27BFF0305E788DA55A029EC4988   \n",
       "3                                       -1  D7D1FB49049702BF6338894757E0D959   \n",
       "4                                       -1  7E56C27BFF0305E788DA55A029EC4988   \n",
       "...                                    ...                               ...   \n",
       "15995629  88460293E9517D21E39AA889BD5AADC8  7E56C27BFF0305E788DA55A029EC4988   \n",
       "15995630  4C90FD52FC53D2C1C205844CB69575AB  7E56C27BFF0305E788DA55A029EC4988   \n",
       "15995631  4C90FD52FC53D2C1C205844CB69575AB  7E56C27BFF0305E788DA55A029EC4988   \n",
       "15995632  4C90FD52FC53D2C1C205844CB69575AB  7E56C27BFF0305E788DA55A029EC4988   \n",
       "15995633  4C90FD52FC53D2C1C205844CB69575AB  7E56C27BFF0305E788DA55A029EC4988   \n",
       "\n",
       "                               audience_id                    product_gender  \\\n",
       "0                                       -1                                -1   \n",
       "1                                       -1  1B491180398E2F0390E6A588B3BCE291   \n",
       "2                                       -1                                -1   \n",
       "3         B0E6BD3ACC0707BAB31CA2C2B08E652F                                -1   \n",
       "4                                       -1                                -1   \n",
       "...                                    ...                               ...   \n",
       "15995629                                -1  1B491180398E2F0390E6A588B3BCE291   \n",
       "15995630                                -1  1B491180398E2F0390E6A588B3BCE291   \n",
       "15995631                                -1  C45A9AC6D102ACAEEDF0D6F78636D84A   \n",
       "15995632                                -1  C45A9AC6D102ACAEEDF0D6F78636D84A   \n",
       "15995633                                -1  1B491180398E2F0390E6A588B3BCE291   \n",
       "\n",
       "          ...                    prod_category3  \\\n",
       "0         ...                                -1   \n",
       "1         ...                                -1   \n",
       "2         ...                                -1   \n",
       "3         ...                                -1   \n",
       "4         ...                                -1   \n",
       "...       ...                               ...   \n",
       "15995629  ...                                -1   \n",
       "15995630  ...  7A6CEBB58995350B3B174F41DA99FBE7   \n",
       "15995631  ...                                -1   \n",
       "15995632  ...                                -1   \n",
       "15995633  ...                                -1   \n",
       "\n",
       "                            prod_category4 prod_category5 prod_category6  \\\n",
       "0                                       -1             -1             -1   \n",
       "1                                       -1             -1             -1   \n",
       "2                                       -1             -1             -1   \n",
       "3                                       -1             -1             -1   \n",
       "4                                       -1             -1             -1   \n",
       "...                                    ...            ...            ...   \n",
       "15995629                                -1             -1             -1   \n",
       "15995630  61B7D8AAF123E545037AA95782986E1D             -1             -1   \n",
       "15995631                                -1             -1             -1   \n",
       "15995632                                -1             -1             -1   \n",
       "15995633                                -1             -1             -1   \n",
       "\n",
       "         prod_category7                   product_country  \\\n",
       "0                    -1  57A1D462A03BD076E029CF9310C11FC5   \n",
       "1                    -1  57A1D462A03BD076E029CF9310C11FC5   \n",
       "2                    -1                                -1   \n",
       "3                    -1                                -1   \n",
       "4                    -1  57A1D462A03BD076E029CF9310C11FC5   \n",
       "...                 ...                               ...   \n",
       "15995629             -1  F0C08A161AA0404193A7EF78F5C3E06C   \n",
       "15995630             -1  F0C08A161AA0404193A7EF78F5C3E06C   \n",
       "15995631             -1  F0C08A161AA0404193A7EF78F5C3E06C   \n",
       "15995632             -1  F0C08A161AA0404193A7EF78F5C3E06C   \n",
       "15995633             -1  F0C08A161AA0404193A7EF78F5C3E06C   \n",
       "\n",
       "                                product_id  \\\n",
       "0         A66DB02AC1726A8D79C518B7F7AB79F0   \n",
       "1         4C6C62203B4CE5AA6DFCF17F2604DC37   \n",
       "2                                       -1   \n",
       "3                                       -1   \n",
       "4         5F4AFF2693601C2EFFE9AF2C1ED4222E   \n",
       "...                                    ...   \n",
       "15995629  81075F8D35AD6A054547EEDBF9C3C845   \n",
       "15995630  DE8B7BA7EF523912230CB0F52C38061E   \n",
       "15995631  7169291F07C0D3D301AF763B67FF6A4F   \n",
       "15995632  7169291F07C0D3D301AF763B67FF6A4F   \n",
       "15995633  EB400DC557C80F4D71E2AF2AE8B7908C   \n",
       "\n",
       "                                              product_title  \\\n",
       "0                                                        -1   \n",
       "1         3CE3D1623D32FB2A901822910AF72A0B C83584C673752...   \n",
       "2                                                        -1   \n",
       "3                                                        -1   \n",
       "4                                                        -1   \n",
       "...                                                     ...   \n",
       "15995629  202165BDC8B614AC3B7F292214B455AD 8859F5D2DCBB5...   \n",
       "15995630  1DBBC0561EC13267859FFEEC908945FA 66418DFAB96BE...   \n",
       "15995631  A6846C722EEB95A9DF0F2FC5B2B04CE2 8EED363963B19...   \n",
       "15995632  A6846C722EEB95A9DF0F2FC5B2B04CE2 8EED363963B19...   \n",
       "15995633  EE7A103620ADFBBF8833BA5E0F5F73F3 226BC10048E64...   \n",
       "\n",
       "                                partner_id                           user_id  \n",
       "0         E3DDEB04F8AFF944B11943BB57D2F620  493CFB4A87C50804C94C0CF76ABD19CD  \n",
       "1         BD01BAFAE73CF38C403978BBB458300C  D0EBCD4402172AE3AA6FD21FB77BDE84  \n",
       "2         C4D189327BD87FEB3BF896DA716C6995  E8A8BEA257B19574C36108D0F0CDADE5  \n",
       "3         440255DF62CFD36FBC0206828FC488E0  9703077BD18F430BD232A6F74931928E  \n",
       "4         E3DDEB04F8AFF944B11943BB57D2F620  703B8CFC8D65A67BDF96595CCF992D27  \n",
       "...                                    ...                               ...  \n",
       "15995629  CC14152DD0806823ED88BA55D9A5240B  91AAEAC11C0A82339C4413F51EF40873  \n",
       "15995630  4691EA5C1795A32C20FCEF274CC28BE5  E9B8E33F395DB60C9B2A1AA01C8044AE  \n",
       "15995631  CC14152DD0806823ED88BA55D9A5240B  1DB53816522BE08D341C0BB19189527E  \n",
       "15995632  CC14152DD0806823ED88BA55D9A5240B  1DB53816522BE08D341C0BB19189527E  \n",
       "15995633  CC14152DD0806823ED88BA55D9A5240B  26C91BFE7D40D586D624E964D24910AA  \n",
       "\n",
       "[15995634 rows x 23 columns]"
      ]
     },
     "execution_count": 7,
     "metadata": {},
     "output_type": "execute_result"
    }
   ],
   "source": [
    "df"
   ]
  },
  {
   "cell_type": "code",
   "execution_count": 8,
   "metadata": {},
   "outputs": [],
   "source": [
    "df['product_title'] = df.product_title.astype(str)\n",
    "df['product_title'] = df['product_title'].replace('nan', 'BROKEN')"
   ]
  },
  {
   "cell_type": "code",
   "execution_count": 9,
   "metadata": {},
   "outputs": [],
   "source": [
    "df['product_title'] = df.product_title.astype(str)\n",
    "df['user_id'] = df.user_id.astype(str)\n"
   ]
  },
  {
   "cell_type": "markdown",
   "metadata": {},
   "source": [
    "### Praca z dask_ml.preprocessing.LabelEncoder"
   ]
  },
  {
   "cell_type": "markdown",
   "metadata": {},
   "source": [
    "#### Przygotowanie LabelEncodera"
   ]
  },
  {
   "cell_type": "code",
   "execution_count": null,
   "metadata": {},
   "outputs": [],
   "source": [
    "# not needed anymore, load pickle file instead\n",
    "labelEncoders = {x:preprocessing.LabelEncoder() for x in encoder_labels}\n",
    "for k,v in labelEncoders.items():\n",
    "    print('starting {}'.format(k))\n",
    "    df[k] = v.fit_transform(df[k])\n",
    "    print('done')"
   ]
  },
  {
   "cell_type": "markdown",
   "metadata": {},
   "source": [
    "#### Zapis labelEncodera do pliku"
   ]
  },
  {
   "cell_type": "code",
   "execution_count": 31,
   "metadata": {},
   "outputs": [],
   "source": [
    "import pickle\n",
    "with open('../lablencoder_new.pickle', 'wb') as handle: #wiem, że tu jest literówka, trudno\n",
    "    pickle.dump(labelEncoders, handle, protocol=pickle.HIGHEST_PROTOCOL)"
   ]
  },
  {
   "cell_type": "markdown",
   "metadata": {},
   "source": [
    "#### Wykorzystanie labelEncodera"
   ]
  },
  {
   "cell_type": "markdown",
   "metadata": {},
   "source": [
    "Załaduj przygotowany labelEncoder za pomocą:"
   ]
  },
  {
   "cell_type": "code",
   "execution_count": 10,
   "metadata": {},
   "outputs": [],
   "source": [
    "labelEncoders = pickle.load(open(\"../../../data/lablencoder.pickle\",\"rb\"))"
   ]
  },
  {
   "cell_type": "markdown",
   "metadata": {},
   "source": [
    "#### Badanie zawartości labelEncodera"
   ]
  },
  {
   "cell_type": "code",
   "execution_count": 11,
   "metadata": {},
   "outputs": [
    {
     "data": {
      "text/plain": [
       "{'product_age_group': LabelEncoder(),\n",
       " 'device_type': LabelEncoder(),\n",
       " 'audience_id': LabelEncoder(),\n",
       " 'product_gender': LabelEncoder(),\n",
       " 'product_brand': LabelEncoder(),\n",
       " 'prod_category1': LabelEncoder(),\n",
       " 'prod_category2': LabelEncoder(),\n",
       " 'prod_category3': LabelEncoder(),\n",
       " 'prod_category4': LabelEncoder(),\n",
       " 'prod_category5': LabelEncoder(),\n",
       " 'prod_category6': LabelEncoder(),\n",
       " 'prod_category7': LabelEncoder(),\n",
       " 'product_country': LabelEncoder(),\n",
       " 'product_id': LabelEncoder(),\n",
       " 'product_title': LabelEncoder(),\n",
       " 'partner_id': LabelEncoder(),\n",
       " 'user_id': LabelEncoder()}"
      ]
     },
     "execution_count": 11,
     "metadata": {},
     "output_type": "execute_result"
    }
   ],
   "source": [
    "labelEncoders"
   ]
  },
  {
   "cell_type": "code",
   "execution_count": 12,
   "metadata": {},
   "outputs": [
    {
     "name": "stdout",
     "output_type": "stream",
     "text": [
      "product_age_group done\n",
      "device_type done\n",
      "audience_id done\n",
      "product_gender done\n",
      "product_brand done\n",
      "prod_category1 done\n",
      "prod_category2 done\n",
      "prod_category3 done\n",
      "prod_category4 done\n",
      "prod_category5 done\n",
      "prod_category6 done\n",
      "prod_category7 done\n",
      "product_country done\n",
      "product_id done\n",
      "product_title done\n",
      "partner_id done\n",
      "user_id done\n"
     ]
    }
   ],
   "source": [
    "for k,v in labelEncoders.items():\n",
    "    df[k] = v.transform(df[k].values)\n",
    "    print('{} done'.format(k))"
   ]
  },
  {
   "cell_type": "code",
   "execution_count": null,
   "metadata": {},
   "outputs": [],
   "source": [
    "for k,v in labelEncoders.items():\n",
    "    print(\"{} table lookup\".format(k))\n",
    "    print(\"showing {} classes:\".format(len(v.classes_)))\n",
    "    print(v.classes_)\n",
    "    print(\"\\n\")"
   ]
  },
  {
   "cell_type": "markdown",
   "metadata": {},
   "source": [
    "Kolumna product_title zawiera wartość BROKEN zastępującą wcześniej pojawiający sie NaN"
   ]
  },
  {
   "cell_type": "code",
   "execution_count": 37,
   "metadata": {},
   "outputs": [
    {
     "data": {
      "text/plain": [
       "True"
      ]
     },
     "execution_count": 37,
     "metadata": {},
     "output_type": "execute_result"
    }
   ],
   "source": [
    "'BROKEN' in labelEncoders.get('product_title').classes_"
   ]
  },
  {
   "cell_type": "code",
   "execution_count": 38,
   "metadata": {},
   "outputs": [
    {
     "data": {
      "text/plain": [
       "array([596334])"
      ]
     },
     "execution_count": 38,
     "metadata": {},
     "output_type": "execute_result"
    }
   ],
   "source": [
    "labelEncoders.get('product_title').transform(['BROKEN'])"
   ]
  },
  {
   "cell_type": "code",
   "execution_count": 39,
   "metadata": {},
   "outputs": [
    {
     "data": {
      "text/plain": [
       "array(['BROKEN'], dtype=object)"
      ]
     },
     "execution_count": 39,
     "metadata": {},
     "output_type": "execute_result"
    },
    {
     "name": "stderr",
     "output_type": "stream",
     "text": [
      "tornado.application - ERROR - Uncaught exception GET /status/ws (127.0.0.1)\n",
      "HTTPServerRequest(protocol='http', host='127.0.0.1:8787', method='GET', uri='/status/ws', version='HTTP/1.1', remote_ip='127.0.0.1')\n",
      "Traceback (most recent call last):\n",
      "  File \"/usr/local/lib/python3.8/dist-packages/tornado/websocket.py\", line 954, in _accept_connection\n",
      "    open_result = handler.open(*handler.open_args, **handler.open_kwargs)\n",
      "  File \"/usr/local/lib/python3.8/dist-packages/tornado/web.py\", line 3173, in wrapper\n",
      "    return method(self, *args, **kwargs)\n",
      "  File \"/usr/local/lib/python3.8/dist-packages/bokeh/server/views/ws.py\", line 137, in open\n",
      "    raise ProtocolError(\"Token is expired.\")\n",
      "bokeh.protocol.exceptions.ProtocolError: Token is expired.\n"
     ]
    }
   ],
   "source": [
    "labelEncoders.get('product_title').inverse_transform([596334])"
   ]
  },
  {
   "cell_type": "code",
   "execution_count": 15,
   "metadata": {},
   "outputs": [],
   "source": [
    "df.to_parquet('AAAAAAAAAAA.parquet')"
   ]
  }
 ],
 "metadata": {
  "kernelspec": {
   "display_name": "Python 3",
   "language": "python",
   "name": "python3"
  },
  "language_info": {
   "codemirror_mode": {
    "name": "ipython",
    "version": 3
   },
   "file_extension": ".py",
   "mimetype": "text/x-python",
   "name": "python",
   "nbconvert_exporter": "python",
   "pygments_lexer": "ipython3",
   "version": "3.8.5"
  }
 },
 "nbformat": 4,
 "nbformat_minor": 4
}

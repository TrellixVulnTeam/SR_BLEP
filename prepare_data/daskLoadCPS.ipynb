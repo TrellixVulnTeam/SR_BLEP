{
 "cells": [
  {
   "cell_type": "markdown",
   "metadata": {},
   "source": [
    "## Przygotowanie danych"
   ]
  },
  {
   "cell_type": "code",
   "execution_count": 2,
   "metadata": {},
   "outputs": [],
   "source": [
    "import pandas as pd\n",
    "import pickle\n",
    "from dask_ml import preprocessing\n",
    "import datetime"
   ]
  },
  {
   "cell_type": "code",
   "execution_count": 3,
   "metadata": {},
   "outputs": [],
   "source": [
    "from dask.distributed import Client, LocalCluster"
   ]
  },
  {
   "cell_type": "code",
   "execution_count": 4,
   "metadata": {},
   "outputs": [],
   "source": [
    "cluster = LocalCluster()\n",
    "client = Client(cluster)"
   ]
  },
  {
   "cell_type": "code",
   "execution_count": 4,
   "metadata": {},
   "outputs": [
    {
     "data": {
      "text/html": [
       "<table style=\"border: 2px solid white;\">\n",
       "<tr>\n",
       "<td style=\"vertical-align: top; border: 0px solid white\">\n",
       "<h3 style=\"text-align: left;\">Client</h3>\n",
       "<ul style=\"text-align: left; list-style: none; margin: 0; padding: 0;\">\n",
       "  <li><b>Scheduler: </b>tcp://127.0.0.1:40489</li>\n",
       "  <li><b>Dashboard: </b><a href='http://127.0.0.1:8787/status' target='_blank'>http://127.0.0.1:8787/status</a></li>\n",
       "</ul>\n",
       "</td>\n",
       "<td style=\"vertical-align: top; border: 0px solid white\">\n",
       "<h3 style=\"text-align: left;\">Cluster</h3>\n",
       "<ul style=\"text-align: left; list-style:none; margin: 0; padding: 0;\">\n",
       "  <li><b>Workers: </b>4</li>\n",
       "  <li><b>Cores: </b>8</li>\n",
       "  <li><b>Memory: </b>16.19 GB</li>\n",
       "</ul>\n",
       "</td>\n",
       "</tr>\n",
       "</table>"
      ],
      "text/plain": [
       "<Client: 'tcp://127.0.0.1:40489' processes=4 threads=8, memory=16.19 GB>"
      ]
     },
     "execution_count": 4,
     "metadata": {},
     "output_type": "execute_result"
    }
   ],
   "source": [
    "client"
   ]
  },
  {
   "cell_type": "code",
   "execution_count": 2,
   "metadata": {},
   "outputs": [],
   "source": [
    "df_headers = ['Sale','SalesAmountInEuro','time_delay_for_conversion','click_timestamp',\n",
    "              'nb_clicks_1week','product_price','product_age_group','device_type',\n",
    "              'audience_id','product_gender','product_brand',\n",
    "              'prod_category1','prod_category2','prod_category3','prod_category4',\n",
    "              'prod_category5','prod_category6','prod_category7','product_country',\n",
    "              'product_id','product_title','partner_id','user_id']\n",
    "\n",
    "dtypes={'prod_category1': 'category','prod_category2': 'category',\n",
    "        'prod_category3': 'category','prod_category4': 'category',\n",
    "        'prod_category5': 'category','prod_category6': 'category',\n",
    "        'prod_category7': 'category', 'product_category': 'str'}\n",
    "\n",
    "encoder_labels = ['product_age_group','device_type','audience_id',\n",
    "                  'product_gender', 'product_brand','prod_category1','prod_category2',\n",
    "                  'prod_category3','prod_category4','prod_category5',\n",
    "                  'prod_category6','prod_category7','product_country',\n",
    "                  'product_id','product_title','partner_id','user_id']\n",
    "\n",
    "df = pd.read_csv(\"../../../data/CriteoSearchData.csv\", header=None,\n",
    "                 names=df_headers, delimiter='\\t', dtype=dtypes)"
   ]
  },
  {
   "cell_type": "code",
   "execution_count": 4,
   "metadata": {},
   "outputs": [],
   "source": [
    "# potrzebne do labelencodera\n",
    "df['product_title'] = df.product_title.astype(str)\n",
    "df['product_title'] = df['product_title'].replace('nan', 'BROKEN')\n",
    "\n",
    "df['product_title'] = df.product_title.astype(str)\n",
    "df['user_id'] = df.user_id.astype(str)"
   ]
  },
  {
   "cell_type": "code",
   "execution_count": 3,
   "metadata": {},
   "outputs": [],
   "source": [
    "df['click_timestamp'] = df['click_timestamp'].apply(lambda x: str(pd.to_datetime(int(x), unit='s').date()))"
   ]
  },
  {
   "cell_type": "markdown",
   "metadata": {},
   "source": [
    "### Praca z dask_ml.preprocessing.LabelEncoder"
   ]
  },
  {
   "cell_type": "markdown",
   "metadata": {},
   "source": [
    "#### Przygotowanie LabelEncodera"
   ]
  },
  {
   "cell_type": "code",
   "execution_count": null,
   "metadata": {},
   "outputs": [],
   "source": [
    "# not needed anymore, load pickle file instead\n",
    "labelEncoders = {x:preprocessing.LabelEncoder() for x in encoder_labels}\n",
    "for k,v in labelEncoders.items():\n",
    "    print('starting {}'.format(k))\n",
    "    df[k] = v.fit_transform(df[k])\n",
    "    print('done')"
   ]
  },
  {
   "cell_type": "markdown",
   "metadata": {},
   "source": [
    "#### Zapis labelEncodera do pliku"
   ]
  },
  {
   "cell_type": "code",
   "execution_count": 31,
   "metadata": {},
   "outputs": [],
   "source": [
    "import pickle\n",
    "with open('../lablencoder_new.pickle', 'wb') as handle: #wiem, że tu jest literówka, trudno\n",
    "    pickle.dump(labelEncoders, handle, protocol=pickle.HIGHEST_PROTOCOL)"
   ]
  },
  {
   "cell_type": "markdown",
   "metadata": {},
   "source": [
    "#### Wykorzystanie labelEncodera"
   ]
  },
  {
   "cell_type": "markdown",
   "metadata": {},
   "source": [
    "Załaduj przygotowany labelEncoder za pomocą:"
   ]
  },
  {
   "cell_type": "code",
   "execution_count": 1,
   "metadata": {},
   "outputs": [],
   "source": [
    "import pickle\n",
    "labelEncoders = pickle.load(open(\"../../../data/lablencoder.pickle\",\"rb\"))"
   ]
  },
  {
   "cell_type": "code",
   "execution_count": 4,
   "metadata": {},
   "outputs": [
    {
     "data": {
      "text/plain": [
       "{'product_age_group': LabelEncoder(),\n",
       " 'device_type': LabelEncoder(),\n",
       " 'audience_id': LabelEncoder(),\n",
       " 'product_gender': LabelEncoder(),\n",
       " 'product_brand': LabelEncoder(),\n",
       " 'prod_category1': LabelEncoder(),\n",
       " 'prod_category2': LabelEncoder(),\n",
       " 'prod_category3': LabelEncoder(),\n",
       " 'prod_category4': LabelEncoder(),\n",
       " 'prod_category5': LabelEncoder(),\n",
       " 'prod_category6': LabelEncoder(),\n",
       " 'prod_category7': LabelEncoder(),\n",
       " 'product_country': LabelEncoder(),\n",
       " 'product_id': LabelEncoder(),\n",
       " 'product_title': LabelEncoder(),\n",
       " 'partner_id': LabelEncoder(),\n",
       " 'user_id': LabelEncoder()}"
      ]
     },
     "execution_count": 4,
     "metadata": {},
     "output_type": "execute_result"
    }
   ],
   "source": [
    "labelEncoders"
   ]
  },
  {
   "cell_type": "markdown",
   "metadata": {},
   "source": [
    "#### Badanie zawartości labelEncodera"
   ]
  },
  {
   "cell_type": "code",
   "execution_count": 11,
   "metadata": {},
   "outputs": [
    {
     "data": {
      "text/plain": [
       "{'product_age_group': LabelEncoder(),\n",
       " 'device_type': LabelEncoder(),\n",
       " 'audience_id': LabelEncoder(),\n",
       " 'product_gender': LabelEncoder(),\n",
       " 'product_brand': LabelEncoder(),\n",
       " 'prod_category1': LabelEncoder(),\n",
       " 'prod_category2': LabelEncoder(),\n",
       " 'prod_category3': LabelEncoder(),\n",
       " 'prod_category4': LabelEncoder(),\n",
       " 'prod_category5': LabelEncoder(),\n",
       " 'prod_category6': LabelEncoder(),\n",
       " 'prod_category7': LabelEncoder(),\n",
       " 'product_country': LabelEncoder(),\n",
       " 'product_id': LabelEncoder(),\n",
       " 'product_title': LabelEncoder(),\n",
       " 'partner_id': LabelEncoder(),\n",
       " 'user_id': LabelEncoder()}"
      ]
     },
     "execution_count": 11,
     "metadata": {},
     "output_type": "execute_result"
    }
   ],
   "source": [
    "labelEncoders"
   ]
  },
  {
   "cell_type": "markdown",
   "metadata": {},
   "source": [
    "Translacja kolumn na wartości labelEncodera"
   ]
  },
  {
   "cell_type": "code",
   "execution_count": 7,
   "metadata": {},
   "outputs": [
    {
     "name": "stdout",
     "output_type": "stream",
     "text": [
      "product_age_group done\n",
      "device_type done\n",
      "audience_id done\n",
      "product_gender done\n",
      "product_brand done\n",
      "prod_category1 done\n",
      "prod_category2 done\n",
      "prod_category3 done\n",
      "prod_category4 done\n",
      "prod_category5 done\n",
      "prod_category6 done\n",
      "prod_category7 done\n",
      "product_country done\n",
      "product_id done\n",
      "product_title done\n",
      "partner_id done\n",
      "user_id done\n"
     ]
    }
   ],
   "source": [
    "for k,v in labelEncoders.items():\n",
    "    df[k] = v.transform(df[k].values)\n",
    "    print('{} done'.format(k))"
   ]
  },
  {
   "cell_type": "code",
   "execution_count": null,
   "metadata": {},
   "outputs": [],
   "source": [
    "for k,v in labelEncoders.items():\n",
    "    print(\"{} table lookup\".format(k))\n",
    "    print(\"showing {} classes:\".format(len(v.classes_)))\n",
    "    print(v.classes_)\n",
    "    print(\"\\n\")"
   ]
  },
  {
   "cell_type": "markdown",
   "metadata": {},
   "source": [
    "Kolumna product_title zawiera wartość BROKEN zastępującą wcześniej pojawiający sie NaN"
   ]
  },
  {
   "cell_type": "code",
   "execution_count": 37,
   "metadata": {},
   "outputs": [
    {
     "data": {
      "text/plain": [
       "True"
      ]
     },
     "execution_count": 37,
     "metadata": {},
     "output_type": "execute_result"
    }
   ],
   "source": [
    "'BROKEN' in labelEncoders.get('product_title').classes_"
   ]
  },
  {
   "cell_type": "code",
   "execution_count": 38,
   "metadata": {},
   "outputs": [
    {
     "data": {
      "text/plain": [
       "array([596334])"
      ]
     },
     "execution_count": 38,
     "metadata": {},
     "output_type": "execute_result"
    }
   ],
   "source": [
    "labelEncoders.get('product_title').transform(['BROKEN'])"
   ]
  },
  {
   "cell_type": "code",
   "execution_count": 39,
   "metadata": {},
   "outputs": [
    {
     "data": {
      "text/plain": [
       "array(['BROKEN'], dtype=object)"
      ]
     },
     "execution_count": 39,
     "metadata": {},
     "output_type": "execute_result"
    },
    {
     "name": "stderr",
     "output_type": "stream",
     "text": [
      "tornado.application - ERROR - Uncaught exception GET /status/ws (127.0.0.1)\n",
      "HTTPServerRequest(protocol='http', host='127.0.0.1:8787', method='GET', uri='/status/ws', version='HTTP/1.1', remote_ip='127.0.0.1')\n",
      "Traceback (most recent call last):\n",
      "  File \"/usr/local/lib/python3.8/dist-packages/tornado/websocket.py\", line 954, in _accept_connection\n",
      "    open_result = handler.open(*handler.open_args, **handler.open_kwargs)\n",
      "  File \"/usr/local/lib/python3.8/dist-packages/tornado/web.py\", line 3173, in wrapper\n",
      "    return method(self, *args, **kwargs)\n",
      "  File \"/usr/local/lib/python3.8/dist-packages/bokeh/server/views/ws.py\", line 137, in open\n",
      "    raise ProtocolError(\"Token is expired.\")\n",
      "bokeh.protocol.exceptions.ProtocolError: Token is expired.\n"
     ]
    }
   ],
   "source": [
    "labelEncoders.get('product_title').inverse_transform([596334])"
   ]
  },
  {
   "cell_type": "markdown",
   "metadata": {},
   "source": [
    "Eksport całego przeparsowanego datasetu:"
   ]
  },
  {
   "cell_type": "code",
   "execution_count": 10,
   "metadata": {},
   "outputs": [],
   "source": [
    "df.to_parquet('CPStimestampFormattedCorrectly.parquet')"
   ]
  },
  {
   "cell_type": "markdown",
   "metadata": {},
   "source": [
    "Plik per partner:"
   ]
  },
  {
   "cell_type": "code",
   "execution_count": 6,
   "metadata": {},
   "outputs": [],
   "source": [
    "grouped = df.groupby('partner_id')"
   ]
  },
  {
   "cell_type": "code",
   "execution_count": 13,
   "metadata": {},
   "outputs": [],
   "source": [
    "for v in df['partner_id'].unique():\n",
    "    grouped.get_group(v).to_parquet('../../data/partners/partner_' + str(v) + '.parquet')"
   ]
  }
 ],
 "metadata": {
  "kernelspec": {
   "display_name": "Python 3",
   "language": "python",
   "name": "python3"
  },
  "language_info": {
   "codemirror_mode": {
    "name": "ipython",
    "version": 3
   },
   "file_extension": ".py",
   "mimetype": "text/x-python",
   "name": "python",
   "nbconvert_exporter": "python",
   "pygments_lexer": "ipython3",
   "version": "3.8.5"
  }
 },
 "nbformat": 4,
 "nbformat_minor": 4
}

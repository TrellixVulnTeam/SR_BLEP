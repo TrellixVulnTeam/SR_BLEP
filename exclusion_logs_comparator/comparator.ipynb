{
 "cells": [
  {
   "cell_type": "code",
   "execution_count": 1,
   "metadata": {},
   "outputs": [],
   "source": [
    "import json\n"
   ]
  },
  {
   "cell_type": "code",
   "execution_count": 25,
   "metadata": {},
   "outputs": [],
   "source": [
    "f = open('mr_Riegel_logs/partner_04A66CE7327C6E21493DA6F3B9AACC75_random_products.json')"
   ]
  },
  {
   "cell_type": "code",
   "execution_count": 26,
   "metadata": {},
   "outputs": [],
   "source": [
    "base = json.load(f)"
   ]
  },
  {
   "cell_type": "code",
   "execution_count": 6,
   "metadata": {},
   "outputs": [],
   "source": [
    "my_f = open('my_exclusion_logs/6.json')"
   ]
  },
  {
   "cell_type": "code",
   "execution_count": 7,
   "metadata": {},
   "outputs": [],
   "source": [
    "student = json.load(my_f)"
   ]
  },
  {
   "cell_type": "code",
   "execution_count": 28,
   "metadata": {},
   "outputs": [],
   "source": [
    "def json_days_dict(json_file):\n",
    "    return {json_file['days'].index(day_log):day_log['day'] for day_log in json_file['days']}"
   ]
  },
  {
   "cell_type": "code",
   "execution_count": 35,
   "metadata": {},
   "outputs": [],
   "source": [
    "def check_extra_days(dr_s_json, student_json):\n",
    "    student_days = json_days_dict(student_json)\n",
    "    dr_s_days = json_days_dict(dr_s_json)\n",
    "    extra_days_in_dr_logs = list(set(dr_s_days.values()) - set(student_days.values()))\n",
    "    extra_days_in_student_log = list(set(student_days.values()) - set(dr_s_days.values()))\n",
    "    if len(extra_days_in_dr_logs) > 0:\n",
    "        print('{} days missing in student log file: {}'.format(str(len(extra_days_in_dr_logs)), extra_days_in_dr_logs))\n",
    "    if len(extra_days_in_student_log) > 0:\n",
    "        print('{} days extra in student log file: {}'.format(str(len(extra_days_in_student_log)), extra_days_in_student_log))"
   ]
  },
  {
   "cell_type": "code",
   "execution_count": 51,
   "metadata": {},
   "outputs": [],
   "source": [
    "def show_results(dr_s_json, student_json):\n",
    "    check_extra_days(dr_s_json, student_json)\n",
    "    not_found_days = 0\n",
    "    correctPtes = 0\n",
    "    correctPaes = 0\n",
    "    correctPssf = 0\n",
    "    alldays = len(dr_s_json['days'])\n",
    "    for dr_log_day in dr_s_json['days']:\n",
    "        found_day = next((item for item in student_json['days'] if item[\"day\"] == dr_log_day['day']), None)\n",
    "        if found_day == None:\n",
    "            print('[DAY {}] not found {}, skipping.'.format(dr_log_day['day'], 'and has no excluded products' if len(dr_log_day['productsToExclude'])==0 else ''))\n",
    "            not_found_days = not_found_days + 1\n",
    "        else:\n",
    "            pte_correct = set(dr_log_day['productsToExclude']) == set(found_day['productsToExclude'])\n",
    "            pae_correct = set(dr_log_day['productsActuallyExcluded']) == set(found_day['productsActuallyExcluded'])\n",
    "            pssf_correct = set(dr_log_day['productsSeenSoFar']) == set(found_day['productsSeenSoFar'])\n",
    "            print(\"[DAY {}] productsToExclude: {}, productsActuallyExcluded: {}, productsSeenSoFar: {}\".format(dr_log_day['day'], 'valid' if pte_correct else 'invalid', 'valid' if pae_correct else 'invalid', 'valid' if pssf_correct else 'invalid'))\n",
    "            if not pte_correct:\n",
    "                print(\"[ERR] productsToExclude: expected - yours: {}\".format((set(dr_log_day['productsToExclude']) - set(found_day['productsToExclude']))))\n",
    "            else:\n",
    "                correctPtes = correctPtes + 1\n",
    "            if not pae_correct:\n",
    "                print(\"[ERR] productsActuallyExcluded: expected - yours: {}\".format((set(dr_log_day['productsActuallyExcluded']) - set(found_day['productsActuallyExcluded']))))\n",
    "            else:\n",
    "                correctPaes = correctPaes + 1\n",
    "            if not pssf_correct:\n",
    "                print(\"[ERR] productsSeenSoFar: expected - yours: {}\".format((set(dr_log_day['productsActuallyExcluded']) - set(found_day['productsActuallyExcluded']))))\n",
    "            else:\n",
    "                correctPssf = correctPssf + 1 \n",
    "    print('{}/{} correct productsToExclude\\n{}/{} correct productsActuallyExcluded\\n{}/{} correct productsSeenSoFar\\n{}'.format(str(correctPtes), str(alldays), str(correctPaes), str(alldays), str(correctPssf), str(alldays), ('Not found: {} days'.format(str(not_found_days)) if not_found_days>0 else '')))"
   ]
  },
  {
   "cell_type": "code",
   "execution_count": 52,
   "metadata": {},
   "outputs": [
    {
     "name": "stdout",
     "output_type": "stream",
     "text": [
      "1 days extra in student log file: ['2020-11-02']\n",
      "[DAY 2020-08-03] productsToExclude: valid, productsActuallyExcluded: valid, productsSeenSoFar: valid\n",
      "[DAY 2020-08-04] productsToExclude: valid, productsActuallyExcluded: valid, productsSeenSoFar: valid\n",
      "[DAY 2020-08-05] productsToExclude: valid, productsActuallyExcluded: valid, productsSeenSoFar: valid\n",
      "[DAY 2020-08-06] productsToExclude: valid, productsActuallyExcluded: valid, productsSeenSoFar: valid\n",
      "[DAY 2020-08-07] productsToExclude: valid, productsActuallyExcluded: valid, productsSeenSoFar: valid\n",
      "[DAY 2020-08-08] productsToExclude: valid, productsActuallyExcluded: valid, productsSeenSoFar: valid\n",
      "[DAY 2020-08-09] productsToExclude: valid, productsActuallyExcluded: valid, productsSeenSoFar: valid\n",
      "[DAY 2020-08-10] productsToExclude: valid, productsActuallyExcluded: valid, productsSeenSoFar: valid\n",
      "[DAY 2020-08-11] productsToExclude: valid, productsActuallyExcluded: valid, productsSeenSoFar: valid\n",
      "[DAY 2020-08-12] productsToExclude: valid, productsActuallyExcluded: valid, productsSeenSoFar: valid\n",
      "[DAY 2020-08-13] productsToExclude: valid, productsActuallyExcluded: valid, productsSeenSoFar: valid\n",
      "[DAY 2020-08-14] productsToExclude: valid, productsActuallyExcluded: valid, productsSeenSoFar: valid\n",
      "[DAY 2020-08-15] productsToExclude: valid, productsActuallyExcluded: valid, productsSeenSoFar: valid\n",
      "[DAY 2020-08-16] productsToExclude: valid, productsActuallyExcluded: valid, productsSeenSoFar: valid\n",
      "[DAY 2020-08-17] productsToExclude: valid, productsActuallyExcluded: valid, productsSeenSoFar: valid\n",
      "[DAY 2020-08-18] productsToExclude: valid, productsActuallyExcluded: valid, productsSeenSoFar: valid\n",
      "[DAY 2020-08-19] productsToExclude: valid, productsActuallyExcluded: valid, productsSeenSoFar: valid\n",
      "[DAY 2020-08-20] productsToExclude: valid, productsActuallyExcluded: valid, productsSeenSoFar: valid\n",
      "[DAY 2020-08-21] productsToExclude: valid, productsActuallyExcluded: valid, productsSeenSoFar: valid\n",
      "[DAY 2020-08-22] productsToExclude: valid, productsActuallyExcluded: valid, productsSeenSoFar: valid\n",
      "[DAY 2020-08-23] productsToExclude: valid, productsActuallyExcluded: valid, productsSeenSoFar: valid\n",
      "[DAY 2020-08-24] productsToExclude: valid, productsActuallyExcluded: valid, productsSeenSoFar: valid\n",
      "[DAY 2020-08-25] productsToExclude: valid, productsActuallyExcluded: valid, productsSeenSoFar: valid\n",
      "[DAY 2020-08-26] productsToExclude: valid, productsActuallyExcluded: valid, productsSeenSoFar: valid\n",
      "[DAY 2020-08-27] productsToExclude: valid, productsActuallyExcluded: valid, productsSeenSoFar: valid\n",
      "[DAY 2020-08-28] productsToExclude: valid, productsActuallyExcluded: valid, productsSeenSoFar: valid\n",
      "[DAY 2020-08-29] productsToExclude: valid, productsActuallyExcluded: valid, productsSeenSoFar: valid\n",
      "[DAY 2020-08-30] productsToExclude: valid, productsActuallyExcluded: valid, productsSeenSoFar: valid\n",
      "[DAY 2020-08-31] productsToExclude: valid, productsActuallyExcluded: valid, productsSeenSoFar: valid\n",
      "[DAY 2020-09-01] productsToExclude: valid, productsActuallyExcluded: valid, productsSeenSoFar: valid\n",
      "[DAY 2020-09-02] productsToExclude: valid, productsActuallyExcluded: valid, productsSeenSoFar: valid\n",
      "[DAY 2020-09-03] productsToExclude: valid, productsActuallyExcluded: valid, productsSeenSoFar: valid\n",
      "[DAY 2020-09-04] productsToExclude: valid, productsActuallyExcluded: valid, productsSeenSoFar: valid\n",
      "[DAY 2020-09-05] productsToExclude: valid, productsActuallyExcluded: valid, productsSeenSoFar: valid\n",
      "[DAY 2020-09-06] productsToExclude: valid, productsActuallyExcluded: valid, productsSeenSoFar: valid\n",
      "[DAY 2020-09-07] productsToExclude: valid, productsActuallyExcluded: valid, productsSeenSoFar: valid\n",
      "[DAY 2020-09-08] productsToExclude: valid, productsActuallyExcluded: valid, productsSeenSoFar: valid\n",
      "[DAY 2020-09-09] productsToExclude: valid, productsActuallyExcluded: valid, productsSeenSoFar: valid\n",
      "[DAY 2020-09-10] productsToExclude: valid, productsActuallyExcluded: valid, productsSeenSoFar: valid\n",
      "[DAY 2020-09-11] productsToExclude: valid, productsActuallyExcluded: valid, productsSeenSoFar: valid\n",
      "[DAY 2020-09-12] productsToExclude: valid, productsActuallyExcluded: valid, productsSeenSoFar: valid\n",
      "[DAY 2020-09-13] productsToExclude: valid, productsActuallyExcluded: valid, productsSeenSoFar: valid\n",
      "[DAY 2020-09-14] productsToExclude: valid, productsActuallyExcluded: valid, productsSeenSoFar: valid\n",
      "[DAY 2020-09-15] productsToExclude: valid, productsActuallyExcluded: valid, productsSeenSoFar: valid\n",
      "[DAY 2020-09-16] productsToExclude: valid, productsActuallyExcluded: valid, productsSeenSoFar: valid\n",
      "[DAY 2020-09-17] productsToExclude: valid, productsActuallyExcluded: valid, productsSeenSoFar: valid\n",
      "[DAY 2020-09-18] productsToExclude: valid, productsActuallyExcluded: valid, productsSeenSoFar: valid\n",
      "[DAY 2020-09-19] productsToExclude: valid, productsActuallyExcluded: valid, productsSeenSoFar: valid\n",
      "[DAY 2020-09-20] productsToExclude: valid, productsActuallyExcluded: valid, productsSeenSoFar: valid\n",
      "[DAY 2020-09-21] productsToExclude: valid, productsActuallyExcluded: valid, productsSeenSoFar: valid\n",
      "[DAY 2020-09-22] productsToExclude: valid, productsActuallyExcluded: valid, productsSeenSoFar: valid\n",
      "[DAY 2020-09-23] productsToExclude: valid, productsActuallyExcluded: valid, productsSeenSoFar: valid\n",
      "[DAY 2020-09-24] productsToExclude: valid, productsActuallyExcluded: valid, productsSeenSoFar: valid\n",
      "[DAY 2020-09-25] productsToExclude: valid, productsActuallyExcluded: valid, productsSeenSoFar: valid\n",
      "[DAY 2020-09-26] productsToExclude: valid, productsActuallyExcluded: valid, productsSeenSoFar: valid\n",
      "[DAY 2020-09-27] productsToExclude: valid, productsActuallyExcluded: valid, productsSeenSoFar: valid\n",
      "[DAY 2020-09-28] productsToExclude: valid, productsActuallyExcluded: valid, productsSeenSoFar: valid\n",
      "[DAY 2020-09-29] productsToExclude: valid, productsActuallyExcluded: valid, productsSeenSoFar: valid\n",
      "[DAY 2020-09-30] productsToExclude: valid, productsActuallyExcluded: valid, productsSeenSoFar: valid\n",
      "[DAY 2020-10-01] productsToExclude: valid, productsActuallyExcluded: valid, productsSeenSoFar: valid\n",
      "[DAY 2020-10-02] productsToExclude: valid, productsActuallyExcluded: valid, productsSeenSoFar: valid\n",
      "[DAY 2020-10-03] productsToExclude: valid, productsActuallyExcluded: valid, productsSeenSoFar: valid\n",
      "[DAY 2020-10-04] productsToExclude: valid, productsActuallyExcluded: valid, productsSeenSoFar: valid\n",
      "[DAY 2020-10-05] productsToExclude: valid, productsActuallyExcluded: valid, productsSeenSoFar: valid\n",
      "[DAY 2020-10-06] productsToExclude: valid, productsActuallyExcluded: valid, productsSeenSoFar: valid\n",
      "[DAY 2020-10-07] productsToExclude: valid, productsActuallyExcluded: valid, productsSeenSoFar: valid\n",
      "[DAY 2020-10-08] productsToExclude: valid, productsActuallyExcluded: valid, productsSeenSoFar: valid\n",
      "[DAY 2020-10-09] productsToExclude: valid, productsActuallyExcluded: valid, productsSeenSoFar: valid\n",
      "[DAY 2020-10-10] productsToExclude: valid, productsActuallyExcluded: valid, productsSeenSoFar: valid\n",
      "[DAY 2020-10-11] productsToExclude: valid, productsActuallyExcluded: valid, productsSeenSoFar: valid\n",
      "[DAY 2020-10-12] productsToExclude: valid, productsActuallyExcluded: valid, productsSeenSoFar: valid\n",
      "[DAY 2020-10-13] productsToExclude: valid, productsActuallyExcluded: valid, productsSeenSoFar: valid\n",
      "[DAY 2020-10-14] productsToExclude: valid, productsActuallyExcluded: valid, productsSeenSoFar: valid\n",
      "[DAY 2020-10-15] productsToExclude: valid, productsActuallyExcluded: valid, productsSeenSoFar: valid\n",
      "[DAY 2020-10-16] productsToExclude: valid, productsActuallyExcluded: valid, productsSeenSoFar: valid\n",
      "[DAY 2020-10-17] productsToExclude: valid, productsActuallyExcluded: valid, productsSeenSoFar: valid\n",
      "[DAY 2020-10-18] productsToExclude: valid, productsActuallyExcluded: valid, productsSeenSoFar: valid\n",
      "[DAY 2020-10-19] productsToExclude: valid, productsActuallyExcluded: valid, productsSeenSoFar: valid\n",
      "[DAY 2020-10-20] productsToExclude: valid, productsActuallyExcluded: valid, productsSeenSoFar: valid\n",
      "[DAY 2020-10-21] productsToExclude: valid, productsActuallyExcluded: valid, productsSeenSoFar: valid\n",
      "[DAY 2020-10-22] productsToExclude: valid, productsActuallyExcluded: valid, productsSeenSoFar: valid\n",
      "[DAY 2020-10-23] productsToExclude: valid, productsActuallyExcluded: valid, productsSeenSoFar: valid\n",
      "[DAY 2020-10-24] productsToExclude: valid, productsActuallyExcluded: valid, productsSeenSoFar: valid\n",
      "[DAY 2020-10-25] productsToExclude: valid, productsActuallyExcluded: valid, productsSeenSoFar: valid\n",
      "[DAY 2020-10-26] productsToExclude: valid, productsActuallyExcluded: valid, productsSeenSoFar: valid\n",
      "[DAY 2020-10-27] productsToExclude: valid, productsActuallyExcluded: valid, productsSeenSoFar: valid\n",
      "[DAY 2020-10-28] productsToExclude: valid, productsActuallyExcluded: valid, productsSeenSoFar: valid\n",
      "[DAY 2020-10-29] productsToExclude: valid, productsActuallyExcluded: valid, productsSeenSoFar: valid\n",
      "[DAY 2020-10-30] productsToExclude: valid, productsActuallyExcluded: valid, productsSeenSoFar: valid\n",
      "[DAY 2020-10-31] productsToExclude: valid, productsActuallyExcluded: valid, productsSeenSoFar: valid\n",
      "[DAY 2020-11-01] productsToExclude: valid, productsActuallyExcluded: valid, productsSeenSoFar: valid\n",
      "91/91 correct productsToExclude\n",
      "91/91 correct productsActuallyExcluded.\n",
      "91/91 correct productsSeenSoFar\n",
      "\n"
     ]
    }
   ],
   "source": [
    "show_results(base, student)\n"
   ]
  }
 ],
 "metadata": {
  "kernelspec": {
   "display_name": "Python 3",
   "language": "python",
   "name": "python3"
  },
  "language_info": {
   "codemirror_mode": {
    "name": "ipython",
    "version": 3
   },
   "file_extension": ".py",
   "mimetype": "text/x-python",
   "name": "python",
   "nbconvert_exporter": "python",
   "pygments_lexer": "ipython3",
   "version": "3.8.5"
  }
 },
 "nbformat": 4,
 "nbformat_minor": 4
}

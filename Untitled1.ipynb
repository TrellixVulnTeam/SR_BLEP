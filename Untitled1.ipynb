{
 "cells": [
  {
   "cell_type": "code",
   "execution_count": 93,
   "metadata": {},
   "outputs": [],
   "source": [
    "import pandas as pd\n",
    "import random\n",
    "import pickle\n",
    "import matplotlib.pyplot as plt\n"
   ]
  },
  {
   "cell_type": "markdown",
   "metadata": {},
   "source": [
    "set unikatowych dla partnera (z całości) NIE\n",
    "\n",
    "lista produktów partnera z całości TEŻ NIE\n",
    "\n",
    "set z dnia poprzedniego 10\n",
    "\n",
    "lista z dnia poprzedniego 23\n",
    "\n",
    "set skumulowanych wartości ze wszystkich poprzednich dni\n",
    "\n",
    "lista skumulowanych wartości ze wszystkich poprzednich dni"
   ]
  },
  {
   "cell_type": "code",
   "execution_count": 88,
   "metadata": {},
   "outputs": [],
   "source": [
    "partner = pd.read_parquet('../data/partners/partner_235.parquet')"
   ]
  },
  {
   "cell_type": "code",
   "execution_count": null,
   "metadata": {},
   "outputs": [],
   "source": []
  },
  {
   "cell_type": "code",
   "execution_count": 62,
   "metadata": {},
   "outputs": [],
   "source": [
    "partner['dayofyear'] = partner['click_timestamp'].dt.dayofyear\n",
    "partner['click_timestamp'] = partner['click_timestamp'].dt.date\n",
    "partner['product_id'] = labelEncoders.get('product_id').inverse_transform(partner['product_id'].values) "
   ]
  },
  {
   "cell_type": "code",
   "execution_count": 23,
   "metadata": {},
   "outputs": [],
   "source": [
    "labelEncoders = pickle.load(open(\"../data/lablencoder.pickle\",\"rb\"))"
   ]
  },
  {
   "cell_type": "code",
   "execution_count": 26,
   "metadata": {},
   "outputs": [],
   "source": [
    "products = labelEncoders.get('product_id').inverse_transform(partner['product_id'].values)b"
   ]
  },
  {
   "cell_type": "code",
   "execution_count": 91,
   "metadata": {},
   "outputs": [
    {
     "data": {
      "text/plain": [
       "numpy.ndarray"
      ]
     },
     "execution_count": 91,
     "metadata": {},
     "output_type": "execute_result"
    }
   ],
   "source": [
    "type(partner['product_id'].values)"
   ]
  },
  {
   "cell_type": "code",
   "execution_count": 47,
   "metadata": {},
   "outputs": [],
   "source": [
    "wszystkie_dla_partnera = list(set(products))\n",
    "wszystkie_dla_partnera.sort()"
   ]
  },
  {
   "cell_type": "code",
   "execution_count": 63,
   "metadata": {},
   "outputs": [],
   "source": [
    "grouped = partner.groupby('dayofyear')"
   ]
  },
  {
   "cell_type": "code",
   "execution_count": 99,
   "metadata": {},
   "outputs": [
    {
     "data": {
      "text/plain": [
       "<pandas.core.groupby.generic.DataFrameGroupBy object at 0x7f77511b24c0>"
      ]
     },
     "execution_count": 99,
     "metadata": {},
     "output_type": "execute_result"
    }
   ],
   "source": [
    "grouped"
   ]
  },
  {
   "cell_type": "code",
   "execution_count": 81,
   "metadata": {},
   "outputs": [],
   "source": [
    "products = day1['product_id'].values"
   ]
  },
  {
   "cell_type": "code",
   "execution_count": 82,
   "metadata": {},
   "outputs": [],
   "source": [
    "products = list(products)"
   ]
  },
  {
   "cell_type": "code",
   "execution_count": 69,
   "metadata": {},
   "outputs": [],
   "source": [
    "def random_exclusion(products, how_many_ratio=20, randomseed = 12) -> []:\n",
    "    dummy_list_of_potentially_excluded_products = products\n",
    "    dummy_list_of_potentially_excluded_products.sort()\n",
    "\n",
    "    dummy_how_many_products = round(len(dummy_list_of_potentially_excluded_products) / how_many_ratio)\n",
    "    random.seed(randomseed)\n",
    "    products_to_exclude = random.sample(dummy_list_of_potentially_excluded_products,\n",
    "                                        dummy_how_many_products)\n",
    "    return products_to_exclude"
   ]
  },
  {
   "cell_type": "code",
   "execution_count": 83,
   "metadata": {},
   "outputs": [
    {
     "data": {
      "text/plain": [
       "23"
      ]
     },
     "execution_count": 83,
     "metadata": {},
     "output_type": "execute_result"
    }
   ],
   "source": [
    "len(random_exclusion(products))"
   ]
  },
  {
   "cell_type": "code",
   "execution_count": 34,
   "metadata": {},
   "outputs": [
    {
     "data": {
      "text/plain": [
       "'2020-09-30'"
      ]
     },
     "execution_count": 34,
     "metadata": {},
     "output_type": "execute_result"
    }
   ],
   "source": [
    "str(date)"
   ]
  },
  {
   "cell_type": "code",
   "execution_count": 94,
   "metadata": {},
   "outputs": [],
   "source": [
    "result = pd.read_parquet('result.parquet')"
   ]
  },
  {
   "cell_type": "code",
   "execution_count": 95,
   "metadata": {},
   "outputs": [
    {
     "data": {
      "text/html": [
       "<div>\n",
       "<style scoped>\n",
       "    .dataframe tbody tr th:only-of-type {\n",
       "        vertical-align: middle;\n",
       "    }\n",
       "\n",
       "    .dataframe tbody tr th {\n",
       "        vertical-align: top;\n",
       "    }\n",
       "\n",
       "    .dataframe thead th {\n",
       "        text-align: right;\n",
       "    }\n",
       "</style>\n",
       "<table border=\"1\" class=\"dataframe\">\n",
       "  <thead>\n",
       "    <tr style=\"text-align: right;\">\n",
       "      <th></th>\n",
       "      <th>Profit gain</th>\n",
       "      <th>Sustained profit</th>\n",
       "      <th>Profit w/o optimizer</th>\n",
       "      <th>Accumulated profit gain</th>\n",
       "      <th>Accumulated sustained profit</th>\n",
       "      <th>Accumulated profit w/o optimizer</th>\n",
       "      <th>Accumulated profit gain ratio</th>\n",
       "    </tr>\n",
       "  </thead>\n",
       "  <tbody>\n",
       "    <tr>\n",
       "      <th>0</th>\n",
       "      <td>0.000000</td>\n",
       "      <td>-11.871369</td>\n",
       "      <td>-11.871369</td>\n",
       "      <td>0.000000</td>\n",
       "      <td>-11.871369</td>\n",
       "      <td>-11.871369</td>\n",
       "      <td>0.0</td>\n",
       "    </tr>\n",
       "    <tr>\n",
       "      <th>1</th>\n",
       "      <td>-1.038747</td>\n",
       "      <td>74.316113</td>\n",
       "      <td>75.354860</td>\n",
       "      <td>-1.038747</td>\n",
       "      <td>62.444744</td>\n",
       "      <td>63.483491</td>\n",
       "      <td>0.0</td>\n",
       "    </tr>\n",
       "    <tr>\n",
       "      <th>2</th>\n",
       "      <td>0.184357</td>\n",
       "      <td>18.262594</td>\n",
       "      <td>18.078237</td>\n",
       "      <td>-0.854390</td>\n",
       "      <td>80.707338</td>\n",
       "      <td>81.561728</td>\n",
       "      <td>0.0</td>\n",
       "    </tr>\n",
       "    <tr>\n",
       "      <th>3</th>\n",
       "      <td>0.092179</td>\n",
       "      <td>46.164068</td>\n",
       "      <td>46.071889</td>\n",
       "      <td>-0.762211</td>\n",
       "      <td>126.871406</td>\n",
       "      <td>127.633617</td>\n",
       "      <td>0.0</td>\n",
       "    </tr>\n",
       "    <tr>\n",
       "      <th>4</th>\n",
       "      <td>0.000000</td>\n",
       "      <td>0.000000</td>\n",
       "      <td>0.000000</td>\n",
       "      <td>-0.762211</td>\n",
       "      <td>126.871406</td>\n",
       "      <td>127.633617</td>\n",
       "      <td>0.0</td>\n",
       "    </tr>\n",
       "    <tr>\n",
       "      <th>5</th>\n",
       "      <td>0.000000</td>\n",
       "      <td>41.390929</td>\n",
       "      <td>41.390929</td>\n",
       "      <td>-0.762211</td>\n",
       "      <td>168.262335</td>\n",
       "      <td>169.024547</td>\n",
       "      <td>0.0</td>\n",
       "    </tr>\n",
       "    <tr>\n",
       "      <th>6</th>\n",
       "      <td>-2.722001</td>\n",
       "      <td>78.110985</td>\n",
       "      <td>80.832986</td>\n",
       "      <td>-3.484212</td>\n",
       "      <td>246.373320</td>\n",
       "      <td>249.857532</td>\n",
       "      <td>0.0</td>\n",
       "    </tr>\n",
       "    <tr>\n",
       "      <th>7</th>\n",
       "      <td>-9.150590</td>\n",
       "      <td>63.196359</td>\n",
       "      <td>72.346949</td>\n",
       "      <td>-12.634802</td>\n",
       "      <td>309.569679</td>\n",
       "      <td>322.204481</td>\n",
       "      <td>0.0</td>\n",
       "    </tr>\n",
       "    <tr>\n",
       "      <th>8</th>\n",
       "      <td>1.938109</td>\n",
       "      <td>75.433334</td>\n",
       "      <td>73.495225</td>\n",
       "      <td>-10.696694</td>\n",
       "      <td>385.003013</td>\n",
       "      <td>395.699707</td>\n",
       "      <td>0.0</td>\n",
       "    </tr>\n",
       "    <tr>\n",
       "      <th>9</th>\n",
       "      <td>0.767862</td>\n",
       "      <td>50.667971</td>\n",
       "      <td>49.900108</td>\n",
       "      <td>-9.928831</td>\n",
       "      <td>435.670984</td>\n",
       "      <td>445.599815</td>\n",
       "      <td>0.0</td>\n",
       "    </tr>\n",
       "    <tr>\n",
       "      <th>10</th>\n",
       "      <td>-5.039389</td>\n",
       "      <td>37.019700</td>\n",
       "      <td>42.059089</td>\n",
       "      <td>-14.968220</td>\n",
       "      <td>472.690684</td>\n",
       "      <td>487.658904</td>\n",
       "      <td>0.0</td>\n",
       "    </tr>\n",
       "    <tr>\n",
       "      <th>11</th>\n",
       "      <td>-0.016418</td>\n",
       "      <td>57.806964</td>\n",
       "      <td>57.823383</td>\n",
       "      <td>-14.984638</td>\n",
       "      <td>530.497648</td>\n",
       "      <td>545.482287</td>\n",
       "      <td>0.0</td>\n",
       "    </tr>\n",
       "    <tr>\n",
       "      <th>12</th>\n",
       "      <td>-3.281836</td>\n",
       "      <td>63.719386</td>\n",
       "      <td>67.001223</td>\n",
       "      <td>-18.266475</td>\n",
       "      <td>594.217035</td>\n",
       "      <td>612.483509</td>\n",
       "      <td>0.0</td>\n",
       "    </tr>\n",
       "    <tr>\n",
       "      <th>13</th>\n",
       "      <td>1.474858</td>\n",
       "      <td>54.813609</td>\n",
       "      <td>53.338752</td>\n",
       "      <td>-16.791617</td>\n",
       "      <td>649.030644</td>\n",
       "      <td>665.822261</td>\n",
       "      <td>0.0</td>\n",
       "    </tr>\n",
       "    <tr>\n",
       "      <th>14</th>\n",
       "      <td>1.290500</td>\n",
       "      <td>31.711782</td>\n",
       "      <td>30.421282</td>\n",
       "      <td>-15.501116</td>\n",
       "      <td>680.742426</td>\n",
       "      <td>696.243543</td>\n",
       "      <td>0.0</td>\n",
       "    </tr>\n",
       "    <tr>\n",
       "      <th>15</th>\n",
       "      <td>0.192197</td>\n",
       "      <td>46.369838</td>\n",
       "      <td>46.177641</td>\n",
       "      <td>-15.308919</td>\n",
       "      <td>727.112264</td>\n",
       "      <td>742.421184</td>\n",
       "      <td>0.0</td>\n",
       "    </tr>\n",
       "    <tr>\n",
       "      <th>16</th>\n",
       "      <td>-9.414853</td>\n",
       "      <td>42.823784</td>\n",
       "      <td>52.238637</td>\n",
       "      <td>-24.723773</td>\n",
       "      <td>769.936048</td>\n",
       "      <td>794.659821</td>\n",
       "      <td>0.0</td>\n",
       "    </tr>\n",
       "    <tr>\n",
       "      <th>17</th>\n",
       "      <td>0.060440</td>\n",
       "      <td>93.253323</td>\n",
       "      <td>93.192883</td>\n",
       "      <td>-24.663333</td>\n",
       "      <td>863.189371</td>\n",
       "      <td>887.852704</td>\n",
       "      <td>0.0</td>\n",
       "    </tr>\n",
       "    <tr>\n",
       "      <th>18</th>\n",
       "      <td>-2.789025</td>\n",
       "      <td>84.700545</td>\n",
       "      <td>87.489570</td>\n",
       "      <td>-27.452358</td>\n",
       "      <td>947.889916</td>\n",
       "      <td>975.342274</td>\n",
       "      <td>0.0</td>\n",
       "    </tr>\n",
       "    <tr>\n",
       "      <th>19</th>\n",
       "      <td>0.921786</td>\n",
       "      <td>82.546378</td>\n",
       "      <td>81.624591</td>\n",
       "      <td>-26.530572</td>\n",
       "      <td>1030.436294</td>\n",
       "      <td>1056.966865</td>\n",
       "      <td>0.0</td>\n",
       "    </tr>\n",
       "    <tr>\n",
       "      <th>20</th>\n",
       "      <td>-14.587307</td>\n",
       "      <td>69.011698</td>\n",
       "      <td>83.599005</td>\n",
       "      <td>-41.117878</td>\n",
       "      <td>1099.447992</td>\n",
       "      <td>1140.565870</td>\n",
       "      <td>0.0</td>\n",
       "    </tr>\n",
       "    <tr>\n",
       "      <th>21</th>\n",
       "      <td>-12.079911</td>\n",
       "      <td>120.487687</td>\n",
       "      <td>132.567599</td>\n",
       "      <td>-53.197790</td>\n",
       "      <td>1219.935679</td>\n",
       "      <td>1273.133469</td>\n",
       "      <td>0.0</td>\n",
       "    </tr>\n",
       "    <tr>\n",
       "      <th>22</th>\n",
       "      <td>-5.405440</td>\n",
       "      <td>5.084828</td>\n",
       "      <td>10.490268</td>\n",
       "      <td>-58.603230</td>\n",
       "      <td>1225.020507</td>\n",
       "      <td>1283.623737</td>\n",
       "      <td>0.0</td>\n",
       "    </tr>\n",
       "    <tr>\n",
       "      <th>23</th>\n",
       "      <td>1.843572</td>\n",
       "      <td>81.880463</td>\n",
       "      <td>80.036890</td>\n",
       "      <td>-56.759658</td>\n",
       "      <td>1306.900969</td>\n",
       "      <td>1363.660627</td>\n",
       "      <td>0.0</td>\n",
       "    </tr>\n",
       "    <tr>\n",
       "      <th>24</th>\n",
       "      <td>2.673180</td>\n",
       "      <td>99.036762</td>\n",
       "      <td>96.363582</td>\n",
       "      <td>-54.086478</td>\n",
       "      <td>1405.937731</td>\n",
       "      <td>1460.024209</td>\n",
       "      <td>0.0</td>\n",
       "    </tr>\n",
       "    <tr>\n",
       "      <th>25</th>\n",
       "      <td>-15.237194</td>\n",
       "      <td>70.141101</td>\n",
       "      <td>85.378294</td>\n",
       "      <td>-69.323672</td>\n",
       "      <td>1476.078832</td>\n",
       "      <td>1545.402504</td>\n",
       "      <td>0.0</td>\n",
       "    </tr>\n",
       "    <tr>\n",
       "      <th>26</th>\n",
       "      <td>-6.967117</td>\n",
       "      <td>93.360717</td>\n",
       "      <td>100.327834</td>\n",
       "      <td>-76.290789</td>\n",
       "      <td>1569.439549</td>\n",
       "      <td>1645.730338</td>\n",
       "      <td>0.0</td>\n",
       "    </tr>\n",
       "    <tr>\n",
       "      <th>27</th>\n",
       "      <td>4.424573</td>\n",
       "      <td>49.064099</td>\n",
       "      <td>44.639526</td>\n",
       "      <td>-71.866216</td>\n",
       "      <td>1618.503648</td>\n",
       "      <td>1690.369864</td>\n",
       "      <td>0.0</td>\n",
       "    </tr>\n",
       "    <tr>\n",
       "      <th>28</th>\n",
       "      <td>0.725994</td>\n",
       "      <td>44.586317</td>\n",
       "      <td>43.860323</td>\n",
       "      <td>-71.140222</td>\n",
       "      <td>1663.089965</td>\n",
       "      <td>1734.230187</td>\n",
       "      <td>0.0</td>\n",
       "    </tr>\n",
       "    <tr>\n",
       "      <th>29</th>\n",
       "      <td>2.765358</td>\n",
       "      <td>14.836003</td>\n",
       "      <td>12.070644</td>\n",
       "      <td>-68.374864</td>\n",
       "      <td>1677.925967</td>\n",
       "      <td>1746.300831</td>\n",
       "      <td>0.0</td>\n",
       "    </tr>\n",
       "    <tr>\n",
       "      <th>30</th>\n",
       "      <td>3.398942</td>\n",
       "      <td>100.560840</td>\n",
       "      <td>97.161898</td>\n",
       "      <td>-64.975922</td>\n",
       "      <td>1778.486807</td>\n",
       "      <td>1843.462729</td>\n",
       "      <td>0.0</td>\n",
       "    </tr>\n",
       "    <tr>\n",
       "      <th>31</th>\n",
       "      <td>0.056914</td>\n",
       "      <td>6.728213</td>\n",
       "      <td>6.671299</td>\n",
       "      <td>-64.919009</td>\n",
       "      <td>1785.215020</td>\n",
       "      <td>1850.134028</td>\n",
       "      <td>0.0</td>\n",
       "    </tr>\n",
       "    <tr>\n",
       "      <th>32</th>\n",
       "      <td>-1.597762</td>\n",
       "      <td>-2.300043</td>\n",
       "      <td>-0.702281</td>\n",
       "      <td>-66.516770</td>\n",
       "      <td>1782.914977</td>\n",
       "      <td>1849.431747</td>\n",
       "      <td>0.0</td>\n",
       "    </tr>\n",
       "    <tr>\n",
       "      <th>33</th>\n",
       "      <td>3.512761</td>\n",
       "      <td>3.721549</td>\n",
       "      <td>0.208788</td>\n",
       "      <td>-63.004010</td>\n",
       "      <td>1786.636525</td>\n",
       "      <td>1849.640535</td>\n",
       "      <td>0.0</td>\n",
       "    </tr>\n",
       "  </tbody>\n",
       "</table>\n",
       "</div>"
      ],
      "text/plain": [
       "    Profit gain  Sustained profit  Profit w/o optimizer  \\\n",
       "0      0.000000        -11.871369            -11.871369   \n",
       "1     -1.038747         74.316113             75.354860   \n",
       "2      0.184357         18.262594             18.078237   \n",
       "3      0.092179         46.164068             46.071889   \n",
       "4      0.000000          0.000000              0.000000   \n",
       "5      0.000000         41.390929             41.390929   \n",
       "6     -2.722001         78.110985             80.832986   \n",
       "7     -9.150590         63.196359             72.346949   \n",
       "8      1.938109         75.433334             73.495225   \n",
       "9      0.767862         50.667971             49.900108   \n",
       "10    -5.039389         37.019700             42.059089   \n",
       "11    -0.016418         57.806964             57.823383   \n",
       "12    -3.281836         63.719386             67.001223   \n",
       "13     1.474858         54.813609             53.338752   \n",
       "14     1.290500         31.711782             30.421282   \n",
       "15     0.192197         46.369838             46.177641   \n",
       "16    -9.414853         42.823784             52.238637   \n",
       "17     0.060440         93.253323             93.192883   \n",
       "18    -2.789025         84.700545             87.489570   \n",
       "19     0.921786         82.546378             81.624591   \n",
       "20   -14.587307         69.011698             83.599005   \n",
       "21   -12.079911        120.487687            132.567599   \n",
       "22    -5.405440          5.084828             10.490268   \n",
       "23     1.843572         81.880463             80.036890   \n",
       "24     2.673180         99.036762             96.363582   \n",
       "25   -15.237194         70.141101             85.378294   \n",
       "26    -6.967117         93.360717            100.327834   \n",
       "27     4.424573         49.064099             44.639526   \n",
       "28     0.725994         44.586317             43.860323   \n",
       "29     2.765358         14.836003             12.070644   \n",
       "30     3.398942        100.560840             97.161898   \n",
       "31     0.056914          6.728213              6.671299   \n",
       "32    -1.597762         -2.300043             -0.702281   \n",
       "33     3.512761          3.721549              0.208788   \n",
       "\n",
       "    Accumulated profit gain  Accumulated sustained profit  \\\n",
       "0                  0.000000                    -11.871369   \n",
       "1                 -1.038747                     62.444744   \n",
       "2                 -0.854390                     80.707338   \n",
       "3                 -0.762211                    126.871406   \n",
       "4                 -0.762211                    126.871406   \n",
       "5                 -0.762211                    168.262335   \n",
       "6                 -3.484212                    246.373320   \n",
       "7                -12.634802                    309.569679   \n",
       "8                -10.696694                    385.003013   \n",
       "9                 -9.928831                    435.670984   \n",
       "10               -14.968220                    472.690684   \n",
       "11               -14.984638                    530.497648   \n",
       "12               -18.266475                    594.217035   \n",
       "13               -16.791617                    649.030644   \n",
       "14               -15.501116                    680.742426   \n",
       "15               -15.308919                    727.112264   \n",
       "16               -24.723773                    769.936048   \n",
       "17               -24.663333                    863.189371   \n",
       "18               -27.452358                    947.889916   \n",
       "19               -26.530572                   1030.436294   \n",
       "20               -41.117878                   1099.447992   \n",
       "21               -53.197790                   1219.935679   \n",
       "22               -58.603230                   1225.020507   \n",
       "23               -56.759658                   1306.900969   \n",
       "24               -54.086478                   1405.937731   \n",
       "25               -69.323672                   1476.078832   \n",
       "26               -76.290789                   1569.439549   \n",
       "27               -71.866216                   1618.503648   \n",
       "28               -71.140222                   1663.089965   \n",
       "29               -68.374864                   1677.925967   \n",
       "30               -64.975922                   1778.486807   \n",
       "31               -64.919009                   1785.215020   \n",
       "32               -66.516770                   1782.914977   \n",
       "33               -63.004010                   1786.636525   \n",
       "\n",
       "    Accumulated profit w/o optimizer  Accumulated profit gain ratio  \n",
       "0                         -11.871369                            0.0  \n",
       "1                          63.483491                            0.0  \n",
       "2                          81.561728                            0.0  \n",
       "3                         127.633617                            0.0  \n",
       "4                         127.633617                            0.0  \n",
       "5                         169.024547                            0.0  \n",
       "6                         249.857532                            0.0  \n",
       "7                         322.204481                            0.0  \n",
       "8                         395.699707                            0.0  \n",
       "9                         445.599815                            0.0  \n",
       "10                        487.658904                            0.0  \n",
       "11                        545.482287                            0.0  \n",
       "12                        612.483509                            0.0  \n",
       "13                        665.822261                            0.0  \n",
       "14                        696.243543                            0.0  \n",
       "15                        742.421184                            0.0  \n",
       "16                        794.659821                            0.0  \n",
       "17                        887.852704                            0.0  \n",
       "18                        975.342274                            0.0  \n",
       "19                       1056.966865                            0.0  \n",
       "20                       1140.565870                            0.0  \n",
       "21                       1273.133469                            0.0  \n",
       "22                       1283.623737                            0.0  \n",
       "23                       1363.660627                            0.0  \n",
       "24                       1460.024209                            0.0  \n",
       "25                       1545.402504                            0.0  \n",
       "26                       1645.730338                            0.0  \n",
       "27                       1690.369864                            0.0  \n",
       "28                       1734.230187                            0.0  \n",
       "29                       1746.300831                            0.0  \n",
       "30                       1843.462729                            0.0  \n",
       "31                       1850.134028                            0.0  \n",
       "32                       1849.431747                            0.0  \n",
       "33                       1849.640535                            0.0  "
      ]
     },
     "execution_count": 95,
     "metadata": {},
     "output_type": "execute_result"
    }
   ],
   "source": [
    "result"
   ]
  },
  {
   "cell_type": "code",
   "execution_count": 96,
   "metadata": {},
   "outputs": [
    {
     "data": {
      "image/png": "[encoded data removed]",
      "text/plain": [
       "<Figure size 432x288 with 1 Axes>"
      ]
     },
     "metadata": {
      "needs_background": "light"
     },
     "output_type": "display_data"
    }
   ],
   "source": [
    "# plt.plot(result.index.values, result['Profit gain'], label='Profit gain')\n",
    "plt.plot(result.index.values, result['Sustained profit'], label='Sustained profit')\n",
    "plt.xlabel('Days of simulation')\n",
    "plt.ylabel('EUR')\n",
    "plt.legend()\n",
    "plt.show()"
   ]
  },
  {
   "cell_type": "code",
   "execution_count": 97,
   "metadata": {},
   "outputs": [
    {
     "data": {
      "image/png": "[encoded data removed]",
      "text/plain": [
       "<Figure size 432x288 with 1 Axes>"
      ]
     },
     "metadata": {
      "needs_background": "light"
     },
     "output_type": "display_data"
    }
   ],
   "source": [
    "# plt.plot(result.index.values, result['Accumulated profit gain'], label='Accumulated profit gain')\n",
    "plt.plot(result.index.values, result['Accumulated sustained profit'], label='Accumulated sustained profit')\n",
    "plt.xlabel('Days of simulation')\n",
    "plt.ylabel('EUR')\n",
    "plt.legend()\n",
    "plt.show()"
   ]
  },
  {
   "cell_type": "code",
   "execution_count": 7,
   "metadata": {},
   "outputs": [
    {
     "data": {
      "image/png": "[encoded data removed]",
      "text/plain": [
       "<Figure size 432x288 with 1 Axes>"
      ]
     },
     "metadata": {
      "needs_background": "light"
     },
     "output_type": "display_data"
    }
   ],
   "source": [
    "plt.plot(result.index.values, result['Accumulated profit w/o optimizer'], label='Accumulated profit w/o optimizer')\n",
    "plt.xlabel('Days of simulation')\n",
    "plt.legend()\n",
    "plt.show()"
   ]
  },
  {
   "cell_type": "code",
   "execution_count": 6,
   "metadata": {},
   "outputs": [
    {
     "data": {
      "image/png": "[encoded data removed]",
      "text/plain": [
       "<Figure size 432x288 with 1 Axes>"
      ]
     },
     "metadata": {
      "needs_background": "light"
     },
     "output_type": "display_data"
    }
   ],
   "source": [
    "plt.plot(result.index.values, result['Profit w/o optimizer'], label='Profit w/o optimizer')\n",
    "plt.xlabel('Days of simulation')\n",
    "plt.legend()\n",
    "plt.show()"
   ]
  },
  {
   "cell_type": "code",
   "execution_count": 32,
   "metadata": {},
   "outputs": [
    {
     "data": {
      "text/plain": [
       "1762.268613295064"
      ]
     },
     "execution_count": 32,
     "metadata": {},
     "output_type": "execute_result"
    }
   ],
   "source": [
    "result['Accumulated profit w/o optimizer'].max()"
   ]
  }
 ],
 "metadata": {
  "kernelspec": {
   "display_name": "Python 3",
   "language": "python",
   "name": "python3"
  },
  "language_info": {
   "codemirror_mode": {
    "name": "ipython",
    "version": 3
   },
   "file_extension": ".py",
   "mimetype": "text/x-python",
   "name": "python",
   "nbconvert_exporter": "python",
   "pygments_lexer": "ipython3",
   "version": "3.8.5"
  }
 },
 "nbformat": 4,
 "nbformat_minor": 4
}

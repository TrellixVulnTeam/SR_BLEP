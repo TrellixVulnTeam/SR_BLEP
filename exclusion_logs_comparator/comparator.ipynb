{
 "cells": [
  {
   "cell_type": "code",
   "execution_count": 99,
   "metadata": {},
   "outputs": [],
   "source": [
    "import json\n"
   ]
  },
  {
   "cell_type": "code",
   "execution_count": 100,
   "metadata": {},
   "outputs": [],
   "source": [
    "f = open('exclusion_logs_dr_Szwabe/exclusion_debug_log_for_C0F515F0A2D0A5D9F854008BA76EB537.json')"
   ]
  },
  {
   "cell_type": "code",
   "execution_count": 101,
   "metadata": {},
   "outputs": [],
   "source": [
    "base = json.load(f)"
   ]
  },
  {
   "cell_type": "code",
   "execution_count": 102,
   "metadata": {},
   "outputs": [],
   "source": [
    "my_f = open('my_exclusion_logs/lulko.json')"
   ]
  },
  {
   "cell_type": "code",
   "execution_count": 103,
   "metadata": {},
   "outputs": [],
   "source": [
    "student = json.load(my_f)"
   ]
  },
  {
   "cell_type": "code",
   "execution_count": 104,
   "metadata": {},
   "outputs": [],
   "source": [
    "def json_days_dict(json_file):\n",
    "    return {json_file['days'].index(day_log):day_log['day'] for day_log in json_file['days']}"
   ]
  },
  {
   "cell_type": "code",
   "execution_count": 105,
   "metadata": {},
   "outputs": [],
   "source": [
    "def check_extra_days(dr_s_json, student_json):\n",
    "    student_days = json_days_dict(student_json)\n",
    "    dr_s_days = json_days_dict(dr_s_json)\n",
    "    extra_days_in_dr_logs = set(dr_s_days.values()) ^ set(student_days.values())\n",
    "    if len(extra_days_in_dr_logs) > 0:\n",
    "        print('{} days missing in student log file: {}'.format(str(len(extra_days_in_dr_logs)), extra_days_in_dr_logs))"
   ]
  },
  {
   "cell_type": "code",
   "execution_count": 106,
   "metadata": {},
   "outputs": [],
   "source": [
    "def show_results(dr_s_json, student_json):\n",
    "    check_extra_days(dr_s_json, student_json)\n",
    "    not_found_days = 0\n",
    "    correctPtes = 0\n",
    "    correctPaes = 0\n",
    "    alldays = len(dr_s_json['days'])\n",
    "    for dr_log_day in dr_s_json['days']:\n",
    "        found_day = next((item for item in student_json['days'] if item[\"day\"] == dr_log_day['day']), None)\n",
    "        if found_day == None:\n",
    "            print('[DAY {}] not found {}, skipping.'.format(dr_log_day['day'], 'and has no excluded products' if len(dr_log_day['productsToExclude'])==0 else ''))\n",
    "            not_found_days = not_found_days + 1\n",
    "        else:\n",
    "            pte_correct = set(dr_log_day['productsToExclude']) == set(found_day['productsToExclude'])\n",
    "            pae_correct = set(dr_log_day['productsActuallyExcluded']) == set(found_day['productsActuallyExcluded'])\n",
    "            print(\"[DAY {}] productsToExclude: {}, productsActuallyExcluded: {}\".format(dr_log_day['day'], 'valid' if pte_correct else 'invalid', 'valid' if pae_correct else 'invalid'))\n",
    "            if not pte_correct:\n",
    "                print(\"[ERR] productsToExclude: expected - yours: {}\".format((set(dr_log_day['productsToExclude']) - set(found_day['productsToExclude']))))\n",
    "            else:\n",
    "                correctPtes = correctPtes + 1\n",
    "            if not pae_correct:\n",
    "                print(\"[ERR] productsActuallyExcluded: expected - yours: {}\".format((set(dr_log_day['productsActuallyExcluded']) - set(found_day['productsActuallyExcluded']))))\n",
    "            else:\n",
    "                correctPaes = correctPaes + 1\n",
    "    print('{}/{} correct productsToExclude\\n{}/{} correct productsActuallyExcluded, {}'.format(str(correctPtes), str(alldays), str(correctPaes), str(alldays), 'Not found: {} days'.format(str(not_found_days) if not_found_days>0 else '')))"
   ]
  },
  {
   "cell_type": "code",
   "execution_count": 107,
   "metadata": {},
   "outputs": [
    {
     "name": "stdout",
     "output_type": "stream",
     "text": [
      "1 days missing in student log file: {'2020-10-04'}\n",
      "[DAY 2020-09-30] productsToExclude: valid, productsActuallyExcluded: valid\n",
      "[DAY 2020-10-01] productsToExclude: valid, productsActuallyExcluded: valid\n",
      "[DAY 2020-10-02] productsToExclude: valid, productsActuallyExcluded: valid\n",
      "[DAY 2020-10-03] productsToExclude: valid, productsActuallyExcluded: valid\n",
      "[DAY 2020-10-04] not found and has no excluded products, skipping.\n",
      "[DAY 2020-10-05] productsToExclude: valid, productsActuallyExcluded: valid\n",
      "[DAY 2020-10-06] productsToExclude: valid, productsActuallyExcluded: valid\n",
      "[DAY 2020-10-07] productsToExclude: valid, productsActuallyExcluded: valid\n",
      "[DAY 2020-10-08] productsToExclude: valid, productsActuallyExcluded: valid\n",
      "[DAY 2020-10-09] productsToExclude: valid, productsActuallyExcluded: valid\n",
      "[DAY 2020-10-10] productsToExclude: valid, productsActuallyExcluded: valid\n",
      "[DAY 2020-10-11] productsToExclude: valid, productsActuallyExcluded: valid\n",
      "[DAY 2020-10-12] productsToExclude: valid, productsActuallyExcluded: valid\n",
      "[DAY 2020-10-13] productsToExclude: valid, productsActuallyExcluded: valid\n",
      "[DAY 2020-10-14] productsToExclude: valid, productsActuallyExcluded: valid\n",
      "[DAY 2020-10-15] productsToExclude: valid, productsActuallyExcluded: valid\n",
      "[DAY 2020-10-16] productsToExclude: valid, productsActuallyExcluded: valid\n",
      "[DAY 2020-10-17] productsToExclude: valid, productsActuallyExcluded: valid\n",
      "[DAY 2020-10-18] productsToExclude: valid, productsActuallyExcluded: valid\n",
      "[DAY 2020-10-19] productsToExclude: valid, productsActuallyExcluded: valid\n",
      "[DAY 2020-10-20] productsToExclude: valid, productsActuallyExcluded: valid\n",
      "[DAY 2020-10-21] productsToExclude: valid, productsActuallyExcluded: valid\n",
      "[DAY 2020-10-22] productsToExclude: valid, productsActuallyExcluded: valid\n",
      "[DAY 2020-10-23] productsToExclude: valid, productsActuallyExcluded: valid\n",
      "[DAY 2020-10-24] productsToExclude: valid, productsActuallyExcluded: valid\n",
      "[DAY 2020-10-25] productsToExclude: valid, productsActuallyExcluded: valid\n",
      "[DAY 2020-10-26] productsToExclude: valid, productsActuallyExcluded: valid\n",
      "[DAY 2020-10-27] productsToExclude: valid, productsActuallyExcluded: valid\n",
      "[DAY 2020-10-28] productsToExclude: valid, productsActuallyExcluded: valid\n",
      "[DAY 2020-10-29] productsToExclude: valid, productsActuallyExcluded: valid\n",
      "[DAY 2020-10-30] productsToExclude: valid, productsActuallyExcluded: valid\n",
      "[DAY 2020-10-31] productsToExclude: valid, productsActuallyExcluded: valid\n",
      "[DAY 2020-11-01] productsToExclude: valid, productsActuallyExcluded: valid\n",
      "[DAY 2020-11-02] productsToExclude: valid, productsActuallyExcluded: valid\n",
      "33/34 correct productsToExclude\n",
      "33/34 productsActuallyExcluded, Not found: 1 days\n"
     ]
    }
   ],
   "source": [
    "show_results(base, student)\n"
   ]
  }
 ],
 "metadata": {
  "kernelspec": {
   "display_name": "Python 3",
   "language": "python",
   "name": "python3"
  },
  "language_info": {
   "codemirror_mode": {
    "name": "ipython",
    "version": 3
   },
   "file_extension": ".py",
   "mimetype": "text/x-python",
   "name": "python",
   "nbconvert_exporter": "python",
   "pygments_lexer": "ipython3",
   "version": "3.8.5"
  }
 },
 "nbformat": 4,
 "nbformat_minor": 4
}

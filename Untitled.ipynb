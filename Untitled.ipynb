{
 "cells": [
  {
   "cell_type": "code",
   "execution_count": 1,
   "metadata": {},
   "outputs": [],
   "source": [
    "import pandas as pd\n",
    "import dask.dataframe as dd\n",
    "from dask.distributed import Client, LocalCluster\n",
    "import numpy as np"
   ]
  },
  {
   "cell_type": "code",
   "execution_count": 3,
   "metadata": {},
   "outputs": [],
   "source": [
    "df = pd.read_parquet(\"../data/partners/partner_235.parquet\")"
   ]
  },
  {
   "cell_type": "code",
   "execution_count": 15,
   "metadata": {},
   "outputs": [],
   "source": [
    "df['dayofyear'] = df['click_timestamp'].dt.dayofyear\n"
   ]
  },
  {
   "cell_type": "code",
   "execution_count": 16,
   "metadata": {},
   "outputs": [],
   "source": [
    "df['dayofyear'] = df['dayofyear'] - df['dayofyear'].min()"
   ]
  },
  {
   "cell_type": "code",
   "execution_count": 17,
   "metadata": {},
   "outputs": [],
   "source": [
    "groups = df.groupby('dayofyear')"
   ]
  },
  {
   "cell_type": "code",
   "execution_count": 21,
   "metadata": {},
   "outputs": [
    {
     "data": {
      "text/plain": [
       "33"
      ]
     },
     "execution_count": 21,
     "metadata": {},
     "output_type": "execute_result"
    }
   ],
   "source": [
    "df['dayofyear'].max()"
   ]
  },
  {
   "cell_type": "code",
   "execution_count": 13,
   "metadata": {},
   "outputs": [
    {
     "name": "stdout",
     "output_type": "stream",
     "text": [
      "0\n",
      "1\n"
     ]
    }
   ],
   "source": [
    "for i in range(0, 2):\n",
    "    print(i)"
   ]
  },
  {
   "cell_type": "code",
   "execution_count": 2,
   "metadata": {},
   "outputs": [],
   "source": [
    "from dask.distributed import Client, LocalCluster\n",
    "cluster = LocalCluster()\n",
    "client = Client(cluster)"
   ]
  },
  {
   "cell_type": "code",
   "execution_count": 3,
   "metadata": {},
   "outputs": [
    {
     "data": {
      "text/html": [
       "<table style=\"border: 2px solid white;\">\n",
       "<tr>\n",
       "<td style=\"vertical-align: top; border: 0px solid white\">\n",
       "<h3 style=\"text-align: left;\">Client</h3>\n",
       "<ul style=\"text-align: left; list-style: none; margin: 0; padding: 0;\">\n",
       "  <li><b>Scheduler: </b>tcp://127.0.0.1:44527</li>\n",
       "  <li><b>Dashboard: </b><a href='http://127.0.0.1:8787/status' target='_blank'>http://127.0.0.1:8787/status</a></li>\n",
       "</ul>\n",
       "</td>\n",
       "<td style=\"vertical-align: top; border: 0px solid white\">\n",
       "<h3 style=\"text-align: left;\">Cluster</h3>\n",
       "<ul style=\"text-align: left; list-style:none; margin: 0; padding: 0;\">\n",
       "  <li><b>Workers: </b>4</li>\n",
       "  <li><b>Cores: </b>8</li>\n",
       "  <li><b>Memory: </b>16.19 GB</li>\n",
       "</ul>\n",
       "</td>\n",
       "</tr>\n",
       "</table>"
      ],
      "text/plain": [
       "<Client: 'tcp://127.0.0.1:44527' processes=4 threads=8, memory=16.19 GB>"
      ]
     },
     "execution_count": 3,
     "metadata": {},
     "output_type": "execute_result"
    }
   ],
   "source": [
    "client"
   ]
  },
  {
   "cell_type": "code",
   "execution_count": 4,
   "metadata": {},
   "outputs": [],
   "source": [
    "df = dd.read_parquet(\"../data/partners/partner_*.parquet\")"
   ]
  },
  {
   "cell_type": "code",
   "execution_count": 11,
   "metadata": {},
   "outputs": [
    {
     "data": {
      "text/plain": [
       "array([  62295, 1266905,  851048,  669672,   88143, 1479954,   31032,\n",
       "        478889,  989644,  444534,  764593, 1579147,   60957,  996391,\n",
       "       1567916, 1255467,  108551, 1007270,   21327,  522966,  301054,\n",
       "        281966, 1328108,  370257,  271700, 1530720,  357879, 1079674,\n",
       "       1419913,  100285, 1399690, 1311159,  433109,  326279, 1341649,\n",
       "       1488873,   87168,  640579,  252680, 1167805,  260659,  185797,\n",
       "        799919, 1325452,  824868, 1538480, 1543562, 1425144, 1439672,\n",
       "        421386,   29397, 1524105,  860416, 1482196,  921982, 1492990,\n",
       "       1619593,  312012, 1265473, 1370937,  319040,  941183,  588757,\n",
       "        834846,  414938,  817615,  463312,  616210,  684843,  987375,\n",
       "       1554087, 1300575, 1541692,  699228,  606683, 1480314, 1354179,\n",
       "        718611,  677153, 1411978,  566120, 1070419,  451839, 1178993,\n",
       "        647496,  928415,  445062, 1330127,  314356, 1516983,  368883,\n",
       "       1114132,    7056,  987829,  670764, 1107855,  373212,  242820,\n",
       "       1221531,  440989, 1015169, 1139591,  127098, 1550835, 1375920,\n",
       "       1227800,  191573, 1525805,  901689, 1297118, 1546719, 1549253,\n",
       "       1449162, 1303608,  537129, 1595235, 1148626,   16801,  415969,\n",
       "       1257033,  573810, 1521106,  442973, 1579137, 1622854,  935938,\n",
       "        247616,  492205,  898853, 1535663,  908229,  562881,  226079,\n",
       "       1623077,  357199,  418640,  213781, 1335863,   28262,  186240,\n",
       "       1396462,  957689, 1396412,  345014,  694235,  808462, 1098816,\n",
       "        608399, 1029309, 1502893,  418896, 1335059,  260459,  901064,\n",
       "        831900,  149049, 1015089, 1482110,  833183, 1471969, 1037232,\n",
       "        105961,  792128, 1433730, 1321195,  602597,  216168,  896322,\n",
       "        230400,  980638,  726518,  387849, 1418138,  855904,  753054,\n",
       "       1521398, 1043568,   74097,  302785,  777372,  667837,  169467,\n",
       "        310933, 1076745,  832999,  823524,  892224,  270697,  741913,\n",
       "         38891,  645750,  716348,  616880, 1540352, 1369774,  459736,\n",
       "        515841,   48473,  689264,  918888,  598799, 1448257,  268886,\n",
       "        336486, 1349297,  535282, 1033612,  811103])"
      ]
     },
     "execution_count": 11,
     "metadata": {},
     "output_type": "execute_result"
    }
   ],
   "source": [
    "x['product_id'].unique()"
   ]
  },
  {
   "cell_type": "code",
   "execution_count": 18,
   "metadata": {},
   "outputs": [
    {
     "data": {
      "text/plain": [
       "11604196    False\n",
       "3335873     False\n",
       "15818306    False\n",
       "15262504    False\n",
       "15755401    False\n",
       "            ...  \n",
       "6846595     False\n",
       "4621144     False\n",
       "376879      False\n",
       "382390      False\n",
       "4622800     False\n",
       "Name: product_id, Length: 5056, dtype: bool"
      ]
     },
     "execution_count": 18,
     "metadata": {},
     "output_type": "execute_result"
    }
   ],
   "source": [
    "x['product_id'].isin([2137])"
   ]
  },
  {
   "cell_type": "code",
   "execution_count": 13,
   "metadata": {},
   "outputs": [
    {
     "ename": "AttributeError",
     "evalue": "'list' object has no attribute 'contains'",
     "output_type": "error",
     "traceback": [
      "\u001b[0;31m---------------------------------------------------------------------------\u001b[0m",
      "\u001b[0;31mAttributeError\u001b[0m                            Traceback (most recent call last)",
      "\u001b[0;32m<ipython-input-13-a83651db0980>\u001b[0m in \u001b[0;36m<module>\u001b[0;34m\u001b[0m\n\u001b[0;32m----> 1\u001b[0;31m \u001b[0mx\u001b[0m\u001b[0;34m[\u001b[0m\u001b[0;34m[\u001b[0m\u001b[0;36m1043568\u001b[0m\u001b[0;34m,\u001b[0m \u001b[0;36m689264\u001b[0m\u001b[0;34m]\u001b[0m\u001b[0;34m.\u001b[0m\u001b[0mcontains\u001b[0m\u001b[0;34m(\u001b[0m\u001b[0mx\u001b[0m\u001b[0;34m[\u001b[0m\u001b[0;34m'product_id'\u001b[0m\u001b[0;34m]\u001b[0m\u001b[0;34m)\u001b[0m\u001b[0;34m]\u001b[0m\u001b[0;34m\u001b[0m\u001b[0;34m\u001b[0m\u001b[0m\n\u001b[0m",
      "\u001b[0;31mAttributeError\u001b[0m: 'list' object has no attribute 'contains'"
     ]
    }
   ],
   "source": [
    "x[[1043568, 689264].contains(x['product_id'])]"
   ]
  },
  {
   "cell_type": "code",
   "execution_count": 32,
   "metadata": {},
   "outputs": [],
   "source": [
    "df_sales_group = df.groupby('partner_id')['Sale'].value_counts().compute().unstack().fillna(0)\n",
    "df_sales_group['Percentage sales'] = df_sales_group[True]/(df_sales_group[False]+df_sales_group[True])"
   ]
  },
  {
   "cell_type": "code",
   "execution_count": 40,
   "metadata": {},
   "outputs": [
    {
     "data": {
      "text/plain": [
       "3090150.0"
      ]
     },
     "execution_count": 40,
     "metadata": {},
     "output_type": "execute_result"
    }
   ],
   "source": [
    "df_sales_group.iloc[277][False] + df_sales_group.iloc[277][True]"
   ]
  },
  {
   "cell_type": "code",
   "execution_count": 13,
   "metadata": {},
   "outputs": [
    {
     "name": "stderr",
     "output_type": "stream",
     "text": [
      "<ipython-input-13-32e7d2d7ea30>:2: UserWarning: `meta` is not specified, inferred from partial data. Please provide `meta` if the result is unexpected.\n",
      "  Before: .apply(func)\n",
      "  After:  .apply(func, meta={'x': 'f8', 'y': 'f8'}) for dataframe result\n",
      "  or:     .apply(func, meta=('x', 'f8'))            for series result\n",
      "  g = g.apply(lambda x: x[x['Sale'] == True]['SalesAmountInEuro'].sum()).compute()\n"
     ]
    }
   ],
   "source": [
    "g = df.groupby('partner_id')\n",
    "g = g.apply(lambda x: x[x['Sale'] == True]['SalesAmountInEuro'].sum()).compute()\n",
    "g = g.sort_index()"
   ]
  },
  {
   "cell_type": "code",
   "execution_count": 14,
   "metadata": {},
   "outputs": [],
   "source": [
    "df_sales_group['Sales %'] = df_sales_group['Percentage sales']*100\n",
    "df_sales_group = df_sales_group.round(2)\n",
    "df_sales_group['Sales %'] = df_sales_group['Sales %'].astype(str) + '%'\n",
    "df_sales_group = df_sales_group.drop(['Percentage sales'], axis =1)\n",
    "df_sales_group['Events'] = df_sales_group[False]+ df_sales_group[True]\n",
    "df_sales_group = df_sales_group.drop([False], axis=1)\n",
    "df_sales_group['Sales'] = df_sales_group[True]\n",
    "df_sales_group = df_sales_group.drop([True], axis = 1)\n",
    "df_sales_group = df_sales_group[['Events', 'Sales',  'Sales %']]\n",
    "df_sales_group['Avg click cost'] = (g/df_sales_group['Events'])*0.125\n",
    "df_sales_group = df_sales_group.round(2)"
   ]
  },
  {
   "cell_type": "code",
   "execution_count": 15,
   "metadata": {},
   "outputs": [
    {
     "data": {
      "text/html": [
       "<div>\n",
       "<style scoped>\n",
       "    .dataframe tbody tr th:only-of-type {\n",
       "        vertical-align: middle;\n",
       "    }\n",
       "\n",
       "    .dataframe tbody tr th {\n",
       "        vertical-align: top;\n",
       "    }\n",
       "\n",
       "    .dataframe thead th {\n",
       "        text-align: right;\n",
       "    }\n",
       "</style>\n",
       "<table border=\"1\" class=\"dataframe\">\n",
       "  <thead>\n",
       "    <tr style=\"text-align: right;\">\n",
       "      <th>Sale</th>\n",
       "      <th>Events</th>\n",
       "      <th>Sales</th>\n",
       "      <th>Sales %</th>\n",
       "      <th>Avg click cost</th>\n",
       "    </tr>\n",
       "    <tr>\n",
       "      <th>partner_id</th>\n",
       "      <th></th>\n",
       "      <th></th>\n",
       "      <th></th>\n",
       "      <th></th>\n",
       "    </tr>\n",
       "  </thead>\n",
       "  <tbody>\n",
       "    <tr>\n",
       "      <th>0</th>\n",
       "      <td>214.0</td>\n",
       "      <td>0.0</td>\n",
       "      <td>0.0%</td>\n",
       "      <td>0.00</td>\n",
       "    </tr>\n",
       "    <tr>\n",
       "      <th>1</th>\n",
       "      <td>5056.0</td>\n",
       "      <td>1560.0</td>\n",
       "      <td>30.85%</td>\n",
       "      <td>1.15</td>\n",
       "    </tr>\n",
       "    <tr>\n",
       "      <th>2</th>\n",
       "      <td>92283.0</td>\n",
       "      <td>20303.0</td>\n",
       "      <td>22.0%</td>\n",
       "      <td>1.51</td>\n",
       "    </tr>\n",
       "    <tr>\n",
       "      <th>3</th>\n",
       "      <td>24011.0</td>\n",
       "      <td>3976.0</td>\n",
       "      <td>16.56%</td>\n",
       "      <td>0.78</td>\n",
       "    </tr>\n",
       "    <tr>\n",
       "      <th>4</th>\n",
       "      <td>2397.0</td>\n",
       "      <td>371.0</td>\n",
       "      <td>15.48%</td>\n",
       "      <td>1.52</td>\n",
       "    </tr>\n",
       "    <tr>\n",
       "      <th>...</th>\n",
       "      <td>...</td>\n",
       "      <td>...</td>\n",
       "      <td>...</td>\n",
       "      <td>...</td>\n",
       "    </tr>\n",
       "    <tr>\n",
       "      <th>307</th>\n",
       "      <td>990.0</td>\n",
       "      <td>1.0</td>\n",
       "      <td>0.1%</td>\n",
       "      <td>0.06</td>\n",
       "    </tr>\n",
       "    <tr>\n",
       "      <th>308</th>\n",
       "      <td>153523.0</td>\n",
       "      <td>9233.0</td>\n",
       "      <td>6.01%</td>\n",
       "      <td>0.62</td>\n",
       "    </tr>\n",
       "    <tr>\n",
       "      <th>309</th>\n",
       "      <td>37973.0</td>\n",
       "      <td>4189.0</td>\n",
       "      <td>11.03%</td>\n",
       "      <td>0.54</td>\n",
       "    </tr>\n",
       "    <tr>\n",
       "      <th>310</th>\n",
       "      <td>11069.0</td>\n",
       "      <td>667.0</td>\n",
       "      <td>6.03%</td>\n",
       "      <td>0.34</td>\n",
       "    </tr>\n",
       "    <tr>\n",
       "      <th>311</th>\n",
       "      <td>89454.0</td>\n",
       "      <td>6641.0</td>\n",
       "      <td>7.42%</td>\n",
       "      <td>3.28</td>\n",
       "    </tr>\n",
       "  </tbody>\n",
       "</table>\n",
       "<p>312 rows × 4 columns</p>\n",
       "</div>"
      ],
      "text/plain": [
       "Sale          Events    Sales Sales %  Avg click cost\n",
       "partner_id                                           \n",
       "0              214.0      0.0    0.0%            0.00\n",
       "1             5056.0   1560.0  30.85%            1.15\n",
       "2            92283.0  20303.0   22.0%            1.51\n",
       "3            24011.0   3976.0  16.56%            0.78\n",
       "4             2397.0    371.0  15.48%            1.52\n",
       "...              ...      ...     ...             ...\n",
       "307            990.0      1.0    0.1%            0.06\n",
       "308         153523.0   9233.0   6.01%            0.62\n",
       "309          37973.0   4189.0  11.03%            0.54\n",
       "310          11069.0    667.0   6.03%            0.34\n",
       "311          89454.0   6641.0   7.42%            3.28\n",
       "\n",
       "[312 rows x 4 columns]"
      ]
     },
     "execution_count": 15,
     "metadata": {},
     "output_type": "execute_result"
    }
   ],
   "source": [
    "df_sales_group.round(2)"
   ]
  }
 ],
 "metadata": {
  "kernelspec": {
   "display_name": "Python 3",
   "language": "python",
   "name": "python3"
  },
  "language_info": {
   "codemirror_mode": {
    "name": "ipython",
    "version": 3
   },
   "file_extension": ".py",
   "mimetype": "text/x-python",
   "name": "python",
   "nbconvert_exporter": "python",
   "pygments_lexer": "ipython3",
   "version": "3.8.5"
  }
 },
 "nbformat": 4,
 "nbformat_minor": 4
}
